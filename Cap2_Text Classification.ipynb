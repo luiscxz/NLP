{
 "cells": [
  {
   "cell_type": "markdown",
   "id": "3aec0e21",
   "metadata": {},
   "source": [
    "**Tabla de contenido**\n",
    "\n",
    "- [Text Classification](#Text-Classification)\n",
    "    - [The Dataset](#The-Dataset)\n",
    "        - [A First Look at Hugging Face Datasets](#A-First-Look-at-Hugging-Face-Datasets)\n",
    "        - [From Datasets to DataFrames](#From-Datasets-to-DataFrames)\n",
    "        - [Looking at the Class Distribution](#Looking-at-the-Class-Distribution)\n",
    "        - [How Long Are Our Tweets?](#How-Long-Are-Our-Tweets?)\n",
    "    - [From Text to Tokens](#From-Text-to-Tokens)\n",
    "        - [Character Tokenization](#Character-Tokenization)\n",
    "        - [Word Tokenization](#Word-Tokenization)\n",
    "        - [Subword Tokenization](#Subword-Tokenization)\n",
    "        - [Tokenizing the Whole Dataset](#Tokenizing-the-Whole-Dataset)\n",
    "    - [Training a Text Classifier](#Training-a-Text-Classifier)\n",
    "        - [Transformers as Feature Extractors](#Transformers-as-Feature-Extractors)\n",
    "            - [Using pretrained models](#Using-pretrained-models)\n",
    "                - [Extracting the last hidden states](#Extrayendo-los-ultimos-estados-ocultos)\n",
    "                - [Creating a feature matrix](#Creating-a-feature-matrix)\n",
    "                - [Visualizing the training set](#Visualizing-the-training-set)\n",
    "                - [Training a simple classifier](#Training-a-simple-classifier)\n",
    "        - [Fine-Tuning Transformers](#Ajuste-Fino-de-Transformadores)\n",
    "            - [Loading a pretrained model](#Loading-a-pretrained-model)\n",
    "                - [Defining the performance metrics](#Defining-the-performance-metrics)\n",
    "                - [Training the model](#Training-the-model)\n",
    "                - [Error analysis](#Error-analysis)\n",
    "                - [Saving and sharing the model](#Saving-and-sharing-the-model)\n",
    "    - [Conclusion](#Conclusion)"
   ]
  },
  {
   "cell_type": "markdown",
   "id": "dfac6de1",
   "metadata": {},
   "source": [
    "# Text Classification"
   ]
  },
  {
   "cell_type": "markdown",
   "id": "2a3b6815",
   "metadata": {},
   "source": [
    "`La clasificación de texto es una de las tareas más comunes en el procesamiento del lenguaje natural (NLP)`; se puede utilizar para una amplia gama de aplicaciones, como `clasificar comentarios` de clientes en categorías o dirigir tickets de soporte según su idioma. ¡Es probable que el filtro de spam de tu programa de correo electrónico esté utilizando clasificación de texto para proteger tu bandeja de entrada de una avalancha de correo no deseado!\n",
    "\n",
    "Otro tipo común de `clasificación de textos es el análisis de sentimientos`, que (como vimos en el Capítulo 1) tiene como objetivo identificar la polaridad de un texto dado.\n",
    "\n",
    "Ahora imagina que eres un científico de datos que necesita construir un sistema que pueda identificar automáticamente estados emocionales como \"ira\" o \"alegría\" que las personas expresan sobre el producto de tu empresa en Twitter. En este capítulo, abordaremos esta tarea utilizando una variante de BERT llamada `DistilBERT`.\n",
    "\n",
    "La principal ventaja de este modelo es que `logra un rendimiento comparable al de BERT`, a la vez que es significativamente más pequeño y eficiente. Esto nos permite entrenar un clasificador en unos pocos minutos, y si deseas entrenar un modelo BERT más grande, simplemente puedes cambiar el `checkpoint` del modelo preentrenado. Un `checkpoint` corresponde al `conjunto de pesos que se cargan en una arquitectura de transformador dada`."
   ]
  },
  {
   "cell_type": "markdown",
   "id": "6a9af508",
   "metadata": {},
   "source": [
    "## The Dataset"
   ]
  },
  {
   "cell_type": "markdown",
   "id": "8a8fab9a",
   "metadata": {},
   "source": [
    "Para construir nuestro detector de emociones utilizaremos un gran conjunto de datos de un artículo que exploró cómo se representan las emociones en los mensajes de Twitter en inglés. A diferencia de la mayoría de los conjuntos de datos de análisis de sentimientos que solo involucran polaridades “positivas” y “negativas”, `este conjunto de datos contiene seis emociones básicas: ira, asco, miedo, alegría, tristeza y sorpresa`."
   ]
  },
  {
   "cell_type": "markdown",
   "id": "5ad7fb82",
   "metadata": {},
   "source": [
    "### A First Look at Hugging Face Datasets"
   ]
  },
  {
   "cell_type": "markdown",
   "id": "496abba5",
   "metadata": {},
   "source": [
    "Usaremos Datasets para descargar los datos del Hugging Face Hub. Podemos usar la función list_datasets() para ver qué datasets están disponibles en el Hub:"
   ]
  },
  {
   "cell_type": "code",
   "execution_count": 1,
   "id": "a97976d9",
   "metadata": {},
   "outputs": [
    {
     "name": "stdout",
     "output_type": "stream",
     "text": [
      "There are 10 datasets currently available on the Hub\n",
      "The first 10 are: ['institutional/institutional-books-1.0', 'EssentialAI/essential-web-v1.0', 'fka/awesome-chatgpt-prompts', 'nvidia/Nemotron-Personas', 'lingshu-medical-mllm/ReasonMed']\n"
     ]
    }
   ],
   "source": [
    "#pip install ipywidgets\n",
    "from huggingface_hub import list_datasets\n",
    "\n",
    "try:\n",
    "    # Limitar a los primeros 100 datasets \n",
    "    datasets = list(list_datasets(limit=10))\n",
    "    \n",
    "    total = len(datasets)\n",
    "    first_5 = [ds.id for ds in datasets[:5]]\n",
    "    \n",
    "    print(f\"There are {total} datasets currently available on the Hub\")\n",
    "    print(f\"The first 10 are: {first_5}\")\n",
    "\n",
    "except Exception as e:\n",
    "    print(f\"An error occurred: {str(e)}\")\n"
   ]
  },
  {
   "cell_type": "markdown",
   "id": "69ddc1c8",
   "metadata": {},
   "source": [
    "Vemos que a `cada conjunto de datos se le da un nombre`, así que carguemos el conjunto de datos de `emociones` con la función load_dataset():"
   ]
  },
  {
   "cell_type": "code",
   "execution_count": 2,
   "id": "60c2e91c",
   "metadata": {},
   "outputs": [
    {
     "data": {
      "text/plain": [
       "DatasetDict({\n",
       "    train: Dataset({\n",
       "        features: ['text', 'label'],\n",
       "        num_rows: 16000\n",
       "    })\n",
       "    validation: Dataset({\n",
       "        features: ['text', 'label'],\n",
       "        num_rows: 2000\n",
       "    })\n",
       "    test: Dataset({\n",
       "        features: ['text', 'label'],\n",
       "        num_rows: 2000\n",
       "    })\n",
       "})"
      ]
     },
     "execution_count": 2,
     "metadata": {},
     "output_type": "execute_result"
    }
   ],
   "source": [
    "# pip install datasets\n",
    "from datasets import load_dataset\n",
    "emotions = load_dataset(\"emotion\")\n",
    "emotions"
   ]
  },
  {
   "cell_type": "markdown",
   "id": "cd3ca4bf",
   "metadata": {},
   "source": [
    "vemos que `es similar a un diccionario de Python, donde cada clave corresponde a una división diferente`. Y podemos usar la sintaxis habitual de diccionario para acceder a una división individual:"
   ]
  },
  {
   "cell_type": "code",
   "execution_count": 3,
   "id": "ab89ff81",
   "metadata": {},
   "outputs": [
    {
     "name": "stdout",
     "output_type": "stream",
     "text": [
      "['text', 'label']\n",
      "{'text': Value(dtype='string', id=None), 'label': ClassLabel(names=['sadness', 'joy', 'love', 'anger', 'fear', 'surprise'], id=None)}\n",
      "{'text': ['i didnt feel humiliated', 'i can go from feeling so hopeless to so damned hopeful just from being around someone who cares and is awake', 'im grabbing a minute to post i feel greedy wrong', 'i am ever feeling nostalgic about the fireplace i will know that it is still on the property', 'i am feeling grouchy'], 'label': [0, 0, 3, 2, 3]}\n"
     ]
    }
   ],
   "source": [
    "train_ds = emotions[\"train\"]\n",
    "print(train_ds.column_names) # nombre de las columnas\n",
    "print(train_ds.features) # imprime las clases que hay \n",
    "print(train_ds[:5]) # imprime los 5 primeros registros, con sus respectivas clases (label)"
   ]
  },
  {
   "cell_type": "markdown",
   "id": "6e434ab7",
   "metadata": {},
   "source": [
    "Tenga en cuenta que en este caso, `los valores del diccionario son ahora listas en lugar de elementos individuales`. También podemos obtener la columna completa por nombre:"
   ]
  },
  {
   "cell_type": "code",
   "execution_count": 4,
   "id": "9db3faa9",
   "metadata": {},
   "outputs": [
    {
     "name": "stdout",
     "output_type": "stream",
     "text": [
      "['i didnt feel humiliated', 'i can go from feeling so hopeless to so damned hopeful just from being around someone who cares and is awake', 'im grabbing a minute to post i feel greedy wrong', 'i am ever feeling nostalgic about the fireplace i will know that it is still on the property', 'i am feeling grouchy']\n"
     ]
    }
   ],
   "source": [
    "print(train_ds[\"text\"][:5])"
   ]
  },
  {
   "cell_type": "markdown",
   "id": "225e0345",
   "metadata": {},
   "source": [
    "### From Datasets to DataFrames"
   ]
  },
  {
   "cell_type": "markdown",
   "id": "90fdcef2",
   "metadata": {},
   "source": [
    "Aunque Datasets proporciona mucha funcionalidad de bajo nivel para segmentar y manipular nuestros datos, a menudo es conveniente convertir un objeto Dataset en un DataFrame de Pandas para que podamos acceder a APIs de alto nivel para la visualización de datos. Para habilitar la conversión, sets proporciona un método set_format() que nos permite cambiar el formato de salida del Dataset. Tenga en cuenta que esto no cambia el formato de datos subyacente (que es una tabla Arrow), y puede cambiar a otro formato más adelante si es necesario:"
   ]
  },
  {
   "cell_type": "code",
   "execution_count": 5,
   "id": "850d7889",
   "metadata": {},
   "outputs": [
    {
     "data": {
      "text/html": [
       "<div>\n",
       "<style scoped>\n",
       "    .dataframe tbody tr th:only-of-type {\n",
       "        vertical-align: middle;\n",
       "    }\n",
       "\n",
       "    .dataframe tbody tr th {\n",
       "        vertical-align: top;\n",
       "    }\n",
       "\n",
       "    .dataframe thead th {\n",
       "        text-align: right;\n",
       "    }\n",
       "</style>\n",
       "<table border=\"1\" class=\"dataframe\">\n",
       "  <thead>\n",
       "    <tr style=\"text-align: right;\">\n",
       "      <th></th>\n",
       "      <th>text</th>\n",
       "      <th>label</th>\n",
       "    </tr>\n",
       "  </thead>\n",
       "  <tbody>\n",
       "    <tr>\n",
       "      <th>0</th>\n",
       "      <td>i didnt feel humiliated</td>\n",
       "      <td>0</td>\n",
       "    </tr>\n",
       "    <tr>\n",
       "      <th>1</th>\n",
       "      <td>i can go from feeling so hopeless to so damned...</td>\n",
       "      <td>0</td>\n",
       "    </tr>\n",
       "    <tr>\n",
       "      <th>2</th>\n",
       "      <td>im grabbing a minute to post i feel greedy wrong</td>\n",
       "      <td>3</td>\n",
       "    </tr>\n",
       "    <tr>\n",
       "      <th>3</th>\n",
       "      <td>i am ever feeling nostalgic about the fireplac...</td>\n",
       "      <td>2</td>\n",
       "    </tr>\n",
       "    <tr>\n",
       "      <th>4</th>\n",
       "      <td>i am feeling grouchy</td>\n",
       "      <td>3</td>\n",
       "    </tr>\n",
       "  </tbody>\n",
       "</table>\n",
       "</div>"
      ],
      "text/plain": [
       "                                                text  label\n",
       "0                            i didnt feel humiliated      0\n",
       "1  i can go from feeling so hopeless to so damned...      0\n",
       "2   im grabbing a minute to post i feel greedy wrong      3\n",
       "3  i am ever feeling nostalgic about the fireplac...      2\n",
       "4                               i am feeling grouchy      3"
      ]
     },
     "execution_count": 5,
     "metadata": {},
     "output_type": "execute_result"
    }
   ],
   "source": [
    "import pandas as pd\n",
    "emotions.set_format(type=\"pandas\")\n",
    "df = emotions[\"train\"][:]\n",
    "df.head()"
   ]
  },
  {
   "cell_type": "markdown",
   "id": "d701feb5",
   "metadata": {},
   "source": [
    "Como puedes ver, `los encabezados de las columnas se han conservado` y las primeras filas coinciden con nuestras vistas anteriores de los datos. `Sin embargo, las etiquetas se representan como enteros`, así que usemos el `método int2str()` de la característica de etiqueta `para crear una nueva columna en nuestro DataFrame con los nombres de etiqueta correspondientes`:"
   ]
  },
  {
   "cell_type": "code",
   "execution_count": 6,
   "id": "69b76aba",
   "metadata": {},
   "outputs": [
    {
     "data": {
      "text/html": [
       "<div>\n",
       "<style scoped>\n",
       "    .dataframe tbody tr th:only-of-type {\n",
       "        vertical-align: middle;\n",
       "    }\n",
       "\n",
       "    .dataframe tbody tr th {\n",
       "        vertical-align: top;\n",
       "    }\n",
       "\n",
       "    .dataframe thead th {\n",
       "        text-align: right;\n",
       "    }\n",
       "</style>\n",
       "<table border=\"1\" class=\"dataframe\">\n",
       "  <thead>\n",
       "    <tr style=\"text-align: right;\">\n",
       "      <th></th>\n",
       "      <th>text</th>\n",
       "      <th>label</th>\n",
       "      <th>label_name</th>\n",
       "    </tr>\n",
       "  </thead>\n",
       "  <tbody>\n",
       "    <tr>\n",
       "      <th>0</th>\n",
       "      <td>i didnt feel humiliated</td>\n",
       "      <td>0</td>\n",
       "      <td>sadness</td>\n",
       "    </tr>\n",
       "    <tr>\n",
       "      <th>1</th>\n",
       "      <td>i can go from feeling so hopeless to so damned...</td>\n",
       "      <td>0</td>\n",
       "      <td>sadness</td>\n",
       "    </tr>\n",
       "    <tr>\n",
       "      <th>2</th>\n",
       "      <td>im grabbing a minute to post i feel greedy wrong</td>\n",
       "      <td>3</td>\n",
       "      <td>anger</td>\n",
       "    </tr>\n",
       "    <tr>\n",
       "      <th>3</th>\n",
       "      <td>i am ever feeling nostalgic about the fireplac...</td>\n",
       "      <td>2</td>\n",
       "      <td>love</td>\n",
       "    </tr>\n",
       "    <tr>\n",
       "      <th>4</th>\n",
       "      <td>i am feeling grouchy</td>\n",
       "      <td>3</td>\n",
       "      <td>anger</td>\n",
       "    </tr>\n",
       "  </tbody>\n",
       "</table>\n",
       "</div>"
      ],
      "text/plain": [
       "                                                text  label label_name\n",
       "0                            i didnt feel humiliated      0    sadness\n",
       "1  i can go from feeling so hopeless to so damned...      0    sadness\n",
       "2   im grabbing a minute to post i feel greedy wrong      3      anger\n",
       "3  i am ever feeling nostalgic about the fireplac...      2       love\n",
       "4                               i am feeling grouchy      3      anger"
      ]
     },
     "execution_count": 6,
     "metadata": {},
     "output_type": "execute_result"
    }
   ],
   "source": [
    "def label_int2str(row):\n",
    "    return emotions[\"train\"].features[\"label\"].int2str(row)\n",
    "df[\"label_name\"] = df[\"label\"].apply(label_int2str)\n",
    "df.head()"
   ]
  },
  {
   "cell_type": "markdown",
   "id": "adaf809f",
   "metadata": {},
   "source": [
    "Antes de sumergirnos en la construcción de un clasificador, echemos un vistazo más de cerca al conjunto de datos. `Como señala Andrej Karpathy` en su famoso blog `“Una receta para entrenar redes neuronales”`, convertirse en `“uno con los datos”` es un paso esencial para entrenar grandes modelos!"
   ]
  },
  {
   "cell_type": "markdown",
   "id": "1484e869",
   "metadata": {},
   "source": [
    "### Looking at the Class Distribution"
   ]
  },
  {
   "cell_type": "markdown",
   "id": "557b021a",
   "metadata": {},
   "source": [
    "`Siempre que estés trabajando en problemas de clasificación de texto`, es una buena idea `examinar la distribución de ejemplos en las clases`. Un conjunto de datos con una distribución de clases sesgada podría requerir un tratamiento diferente en términos de pérdida de entrenamiento y métricas de evaluación que uno balanceado."
   ]
  },
  {
   "cell_type": "code",
   "execution_count": 7,
   "id": "476c7f00",
   "metadata": {},
   "outputs": [
    {
     "data": {
      "image/png": "[encoded data removed]",
      "text/plain": [
       "<Figure size 640x480 with 1 Axes>"
      ]
     },
     "metadata": {},
     "output_type": "display_data"
    }
   ],
   "source": [
    "import matplotlib.pyplot as plt\n",
    "df[\"label_name\"].value_counts(ascending=True).plot.barh()\n",
    "plt.title(\"Frequency of Classes\")\n",
    "plt.show()"
   ]
  },
  {
   "cell_type": "markdown",
   "id": "71d1fd3c",
   "metadata": {},
   "source": [
    "En este caso, podemos ver que `el conjunto de datos está muy desbalanceado`; las clases de alegría y tristeza aparecen con frecuencia, mientras que amor y sorpresa son aproximadamente 5 a 10 veces más raras. Existen varias maneras de lidiar con datos desbalanceados, incluyendo:\n",
    "\n",
    "- Sobremuestrear aleatoriamente la clase minoritaria.\n",
    "- Submuestrear aleatoriamente la clase mayoritaria.\n",
    "- Reunir más datos etiquetados de las clases subrepresentadas.\n",
    "\n",
    "Si deseas aprender más sobre estas técnicas de muestreo, te recomendamos consultar la biblioteca `Imbalanced-learn`. `¡Solo asegúrate de no aplicar métodos de muestreo antes de crear tus divisiones de entrenamiento/prueba`, o tendrás mucha fuga entre ellas!\n",
    "\n",
    "Ahora que hemos visto las clases, echemos un vistazo a los tweets en sí."
   ]
  },
  {
   "cell_type": "markdown",
   "id": "b1cb90e8",
   "metadata": {},
   "source": [
    "### How Long Are Our Tweets?"
   ]
  },
  {
   "cell_type": "markdown",
   "id": "4c9cbe42",
   "metadata": {},
   "source": [
    "`Los modelos de transformadores tienen una longitud máxima de secuencia de entrada` que se conoce como el tamaño máximo del contexto `(maximum context size)`. Para las aplicaciones que utilizan DistilBERT, el tamaño máximo del contexto es de 512 tokens, lo que equivale a unos pocos párrafos de texto. Como veremos en la siguiente sección, un token es una pieza atómica de texto; por ahora, trataremos un token como una sola palabra. `Podemos obtener una estimación aproximada de las longitudes de los tuits por emoción observando la distribución de palabras por tuit`:"
   ]
  },
  {
   "cell_type": "code",
   "execution_count": 8,
   "id": "4218fe2d",
   "metadata": {},
   "outputs": [
    {
     "data": {
      "image/png": "[encoded data removed]",
      "text/plain": [
       "<Figure size 640x480 with 1 Axes>"
      ]
     },
     "metadata": {},
     "output_type": "display_data"
    }
   ],
   "source": [
    "df[\"Words Per Tweet\"] = df[\"text\"].str.split().apply(len)\n",
    "df.boxplot(\"Words Per Tweet\", by=\"label_name\", grid=False,\n",
    "showfliers=False, color=\"black\")\n",
    "plt.suptitle(\"\")\n",
    "plt.xlabel(\"\")\n",
    "plt.show()"
   ]
  },
  {
   "cell_type": "markdown",
   "id": "07d29eef",
   "metadata": {},
   "source": [
    "A partir del gráfico, vemos que `para cada emoción, la mayoría de los tweets tienen alrededor de 15 palabras de longitud` y `los tweets más largos están muy por debajo del tamaño máximo de contexto de DistilBERT`. Los textos que son más largos que el tamaño de contexto de un modelo necesitan ser truncados, lo que puede llevar a una pérdida de rendimiento si el texto truncado contiene información crucial; en este caso, parece que eso no será un problema.\n",
    "\n",
    "`¡Ahora descubramos cómo podemos convertir estos textos en bruto en un formato adecuado para Transformers!` Mientras estamos en eso, `también reiniciemos el formato de salida de nuestro conjunto de datos ya que no necesitamos más el formato de DataFrame`:"
   ]
  },
  {
   "cell_type": "code",
   "execution_count": 9,
   "id": "664a9456",
   "metadata": {},
   "outputs": [],
   "source": [
    "emotions.reset_format()"
   ]
  },
  {
   "cell_type": "markdown",
   "id": "520ce2fc",
   "metadata": {},
   "source": [
    "## From Text to Tokens"
   ]
  },
  {
   "cell_type": "markdown",
   "id": "8af8a4ed",
   "metadata": {},
   "source": [
    "`Los modelos de transformadores como DistilBERT no pueden recibir cadenas de texto sin procesar como entrada; en su lugar, asumen que el texto ha sido tokenizado y codificado como vectores numéricos`. `La tokenización es el paso de descomponer una cadena en las unidades  utilizadas en el modelo`. Hay varias estrategias de tokenización que se pueden adoptar, y la división óptima de las palabras en subunidades generalmente se aprende del corpus. Antes de mirar el tokenizador utilizado para DistilBERT, consideremos dos casos extremos: `la tokenización a nivel de caracteres` y `la tokenización a nivel de palabras`.\n"
   ]
  },
  {
   "cell_type": "markdown",
   "id": "3f046fd3",
   "metadata": {},
   "source": [
    "### Character Tokenization"
   ]
  },
  {
   "cell_type": "code",
   "execution_count": 10,
   "id": "f5113b0b",
   "metadata": {},
   "outputs": [
    {
     "name": "stdout",
     "output_type": "stream",
     "text": [
      "['T', 'o', 'k', 'e', 'n', 'i', 'z', 'i', 'n', 'g', ' ', 't', 'e', 'x', 't', ' ', 'i', 's', ' ', 'a', ' ', 'c', 'o', 'r', 'e', ' ', 't', 'a', 's', 'k', ' ', 'o', 'f', ' ', 'N', 'L', 'P', '.']\n"
     ]
    }
   ],
   "source": [
    "text = \"Tokenizing text is a core task of NLP.\"\n",
    "tokenized_text = list(text)\n",
    "print(tokenized_text)"
   ]
  },
  {
   "cell_type": "markdown",
   "id": "338fed62",
   "metadata": {},
   "source": [
    "Este es un buen comienzo, pero aún no hemos terminado. `Nuestro modelo espera que cada carácter se convierta en un entero`, un proceso que a veces se llama numerización. Una forma sencilla de hacer esto es codificando cada token único (que son caracteres en este caso) con un entero único:"
   ]
  },
  {
   "cell_type": "code",
   "execution_count": 11,
   "id": "690dc23c",
   "metadata": {},
   "outputs": [
    {
     "name": "stdout",
     "output_type": "stream",
     "text": [
      "{' ': 0, '.': 1, 'L': 2, 'N': 3, 'P': 4, 'T': 5, 'a': 6, 'c': 7, 'e': 8, 'f': 9, 'g': 10, 'i': 11, 'k': 12, 'n': 13, 'o': 14, 'r': 15, 's': 16, 't': 17, 'x': 18, 'z': 19}\n"
     ]
    }
   ],
   "source": [
    "token2idx = {ch: idx for idx, ch in enumerate(sorted(set(tokenized_text)))}\n",
    "print(token2idx)"
   ]
  },
  {
   "cell_type": "markdown",
   "id": "59ed61a4",
   "metadata": {},
   "source": [
    "Esto nos da un mapeo de cada carácter en nuestro vocabulario a un entero único. Ahora podemos usar token2idx para transformar el texto tokenizado en una lista de enteros:"
   ]
  },
  {
   "cell_type": "code",
   "execution_count": 12,
   "id": "124ed27b",
   "metadata": {},
   "outputs": [
    {
     "name": "stdout",
     "output_type": "stream",
     "text": [
      "[5, 14, 12, 8, 13, 11, 19, 11, 13, 10, 0, 17, 8, 18, 17, 0, 11, 16, 0, 6, 0, 7, 14, 15, 8, 0, 17, 6, 16, 12, 0, 14, 9, 0, 3, 2, 4, 1]\n"
     ]
    }
   ],
   "source": [
    "input_ids = [token2idx[token] for token in tokenized_text]\n",
    "print(input_ids)"
   ]
  },
  {
   "cell_type": "markdown",
   "id": "800034f8",
   "metadata": {},
   "source": [
    "Cada token ahora se ha mapeado a un identificador numérico único (de ahí el nombre input_ids). El último paso es convertir input_ids en un tensor 2D de vectores one-hot. Los vectores one-hot se utilizan con frecuencia en el aprendizaje automático para codificar datos categóricos, que pueden ser ordinales o nominales. Por ejemplo, supongamos que queremos codificar los nombres de los personajes de la serie de televisión Transformers. Una forma de hacer esto sería mapear cada nombre a una ID única, de la siguiente manera:"
   ]
  },
  {
   "cell_type": "code",
   "execution_count": 13,
   "id": "f7f7d044",
   "metadata": {},
   "outputs": [
    {
     "data": {
      "text/html": [
       "<div>\n",
       "<style scoped>\n",
       "    .dataframe tbody tr th:only-of-type {\n",
       "        vertical-align: middle;\n",
       "    }\n",
       "\n",
       "    .dataframe tbody tr th {\n",
       "        vertical-align: top;\n",
       "    }\n",
       "\n",
       "    .dataframe thead th {\n",
       "        text-align: right;\n",
       "    }\n",
       "</style>\n",
       "<table border=\"1\" class=\"dataframe\">\n",
       "  <thead>\n",
       "    <tr style=\"text-align: right;\">\n",
       "      <th></th>\n",
       "      <th>Name</th>\n",
       "      <th>Label ID</th>\n",
       "    </tr>\n",
       "  </thead>\n",
       "  <tbody>\n",
       "    <tr>\n",
       "      <th>0</th>\n",
       "      <td>Bumblebee</td>\n",
       "      <td>0</td>\n",
       "    </tr>\n",
       "    <tr>\n",
       "      <th>1</th>\n",
       "      <td>Optimus Prime</td>\n",
       "      <td>1</td>\n",
       "    </tr>\n",
       "    <tr>\n",
       "      <th>2</th>\n",
       "      <td>Megatron</td>\n",
       "      <td>2</td>\n",
       "    </tr>\n",
       "  </tbody>\n",
       "</table>\n",
       "</div>"
      ],
      "text/plain": [
       "            Name  Label ID\n",
       "0      Bumblebee         0\n",
       "1  Optimus Prime         1\n",
       "2       Megatron         2"
      ]
     },
     "execution_count": 13,
     "metadata": {},
     "output_type": "execute_result"
    }
   ],
   "source": [
    "categorical_df = pd.DataFrame(\n",
    "{\"Name\": [\"Bumblebee\", \"Optimus Prime\", \"Megatron\"], \"Label ID\": [0,1,2]})\n",
    "categorical_df"
   ]
  },
  {
   "cell_type": "markdown",
   "id": "041a2e2f",
   "metadata": {},
   "source": [
    "El problema con este enfoque es que crea un orden ficticio entre los nombres, y las redes neuronales son muy buenas para aprender este tipo de relaciones. Así que, en lugar de eso, podemos crear una nueva columna para cada categoría y asignar un 1 donde la categoría sea verdadera y un 0 en caso contrario. En Pandas, esto se puede implementar con la función get_dummies() de la siguiente manera:"
   ]
  },
  {
   "cell_type": "code",
   "execution_count": 14,
   "id": "f7f913a8",
   "metadata": {},
   "outputs": [
    {
     "data": {
      "text/html": [
       "<div>\n",
       "<style scoped>\n",
       "    .dataframe tbody tr th:only-of-type {\n",
       "        vertical-align: middle;\n",
       "    }\n",
       "\n",
       "    .dataframe tbody tr th {\n",
       "        vertical-align: top;\n",
       "    }\n",
       "\n",
       "    .dataframe thead th {\n",
       "        text-align: right;\n",
       "    }\n",
       "</style>\n",
       "<table border=\"1\" class=\"dataframe\">\n",
       "  <thead>\n",
       "    <tr style=\"text-align: right;\">\n",
       "      <th></th>\n",
       "      <th>Bumblebee</th>\n",
       "      <th>Megatron</th>\n",
       "      <th>Optimus Prime</th>\n",
       "    </tr>\n",
       "  </thead>\n",
       "  <tbody>\n",
       "    <tr>\n",
       "      <th>0</th>\n",
       "      <td>1</td>\n",
       "      <td>0</td>\n",
       "      <td>0</td>\n",
       "    </tr>\n",
       "    <tr>\n",
       "      <th>1</th>\n",
       "      <td>0</td>\n",
       "      <td>0</td>\n",
       "      <td>1</td>\n",
       "    </tr>\n",
       "    <tr>\n",
       "      <th>2</th>\n",
       "      <td>0</td>\n",
       "      <td>1</td>\n",
       "      <td>0</td>\n",
       "    </tr>\n",
       "  </tbody>\n",
       "</table>\n",
       "</div>"
      ],
      "text/plain": [
       "   Bumblebee  Megatron  Optimus Prime\n",
       "0          1         0              0\n",
       "1          0         0              1\n",
       "2          0         1              0"
      ]
     },
     "execution_count": 14,
     "metadata": {},
     "output_type": "execute_result"
    }
   ],
   "source": [
    "pd.get_dummies(categorical_df[\"Name\"],dtype=int)"
   ]
  },
  {
   "cell_type": "markdown",
   "id": "dc69a8b7",
   "metadata": {},
   "source": [
    "Podemos crear las codificaciones one-hot en PyTorch convirtiendo `input_ids` en un tensor y aplicando la función one_hot() de la siguiente manera:"
   ]
  },
  {
   "cell_type": "code",
   "execution_count": 15,
   "id": "a21ed37a",
   "metadata": {},
   "outputs": [
    {
     "data": {
      "text/plain": [
       "torch.Size([38, 20])"
      ]
     },
     "execution_count": 15,
     "metadata": {},
     "output_type": "execute_result"
    }
   ],
   "source": [
    "import torch\n",
    "import torch.nn.functional as F\n",
    "input_ids = torch.tensor(input_ids)\n",
    "one_hot_encodings = F.one_hot(input_ids, num_classes=len(token2idx))\n",
    "one_hot_encodings.shape"
   ]
  },
  {
   "cell_type": "markdown",
   "id": "fae0c59f",
   "metadata": {},
   "source": [
    "`Para cada uno de los 38 tokens de entrada, ahora tenemos un vector one-hot con 20 dimensiones, ya que nuestro vocabulario consiste en 20 caracteres únicos.`\n",
    "\n",
    "`Nota`: `Es importante siempre establecer num_classes en la función one_hot()` porque de lo contrario los vectores one-hot pueden terminar siendo más cortos que la longitud del vocabulario (y necesitarán ser rellenados con ceros manualmente). En TensorFlow, la función equivalente es tf.one_hot(), donde el argumento depth cumple el papel de num_classes.\n",
    "\n",
    "Al examinar el primer vector, podemos verificar que un 1 aparece en la ubicación indicada por input_ids[0]:\n"
   ]
  },
  {
   "cell_type": "code",
   "execution_count": 16,
   "id": "f33ffd55",
   "metadata": {},
   "outputs": [
    {
     "name": "stdout",
     "output_type": "stream",
     "text": [
      "Token: T\n",
      "Tensor index: 5\n",
      "One-hot: tensor([0, 0, 0, 0, 0, 1, 0, 0, 0, 0, 0, 0, 0, 0, 0, 0, 0, 0, 0, 0])\n"
     ]
    }
   ],
   "source": [
    "print(f\"Token: {tokenized_text[0]}\")\n",
    "print(f\"Tensor index: {input_ids[0]}\")\n",
    "print(f\"One-hot: {one_hot_encodings[0]}\")"
   ]
  },
  {
   "cell_type": "markdown",
   "id": "fb5e2460",
   "metadata": {},
   "source": [
    "A partir de nuestro simple ejemplo, podemos ver que la tokenización a nivel de caracteres ignora cualquier estructura en el texto y trata toda la cadena como un flujo de caracteres. `Aunque esto ayuda a lidiar con errores ortográficos y palabras raras, la principal desventaja es que las estructuras lingüísticas, como las palabras, necesitan ser aprendidas a partir de los datos. Esto requiere un uso significativo de cómputo, memoria y datos`. Por esta razón, `la tokenización de caracteres rara vez se utiliza en la práctica`. En cambio, se preserva alguna estructura del texto durante el proceso de tokenización. La tokenización de palabras es un enfoque simple para lograr esto, así que echemos un vistazo a cómo funciona."
   ]
  },
  {
   "cell_type": "markdown",
   "id": "489a29d4",
   "metadata": {},
   "source": [
    "### Word Tokenization"
   ]
  },
  {
   "cell_type": "markdown",
   "id": "027d8dbd",
   "metadata": {},
   "source": [
    "`En lugar de dividir el texto en caracteres, podemos dividirlo en palabras y mapear cada palabra a un número entero`. `Utilizar palabras desde el principio permite al modelo omitir el paso de aprender palabras a partir de caracteres`, y así reduce la complejidad del proceso de entrenamiento.\n",
    "\n",
    "`Una clase simple de tokenizadores de palabras utiliza el espacio en blanco para tokenizar el texto`. Podemos hacer esto aplicando la función split() de Python directamente en el texto bruto (tal como lo hicimos para medir las longitudes de los tweets):"
   ]
  },
  {
   "cell_type": "code",
   "execution_count": 17,
   "id": "9a59ebba",
   "metadata": {},
   "outputs": [
    {
     "name": "stdout",
     "output_type": "stream",
     "text": [
      "['Tokenizing', 'text', 'is', 'a', 'core', 'task', 'of', 'NLP.']\n"
     ]
    }
   ],
   "source": [
    "tokenized_text = text.split()\n",
    "print(tokenized_text)"
   ]
  },
  {
   "cell_type": "markdown",
   "id": "1a1d1f4c",
   "metadata": {},
   "source": [
    "Desde aquí podemos seguir los mismos pasos que tomamos para el tokenizador de caracteres para mapear cada palabra a un ID. Sin embargo, ya `podemos ver un posible problema con este esquema de tokenización`: `la puntuación no se tiene en cuenta`, por lo que NLP. se trata como un único token. `Dado que las palabras pueden incluir declinaciones, conjugaciones o errores ortográficos`, `¡el tamaño del vocabulario puede crecer fácilmente hasta millones!`\n",
    "\n",
    "`Nota`: `Algunos tokenizadores de palabras tienen reglas adicionales para la puntuación`. También se puede aplicar el `stemming` o la `lemmatization`, que normaliza las palabras a su raíz (por ejemplo, \"grande\", \"mayor\" y \"el más grande\" se convierten en \"grande\"), a costa de perder algo de información en el texto.\n",
    "\n",
    "Tener un vocabulario grande es un problema porque requiere que las redes neuronales tengan un número enorme de parámetros. Naturalmente, queremos evitar ser tan derrochadores con los parámetros de nuestro modelo, ya que los modelos son costosos de entrenar y los modelos más grandes son más difíciles de mantener. \n",
    "\n",
    "`Un enfoque común es limitar el vocabulario y descartar palabras raras considerando, por ejemplo, las 100,000 palabras más comunes en el corpus`. Las palabras que no forman parte del vocabulario se clasifican como \"desconocidas\" y se asignan a un token compartido UNK. Esto significa que perdemos información potencialmente importante en el proceso de tokenización de palabras, ya que el modelo no tiene información sobre las palabras asociadas con UNK.\n",
    "\n",
    "¿No sería genial si hubiera un compromiso entre la tokenización de caracteres y la tokenización de palabras que preservara toda la información de entrada y parte de la estructura de entrada? Sí lo hay: `la tokenización de subpalabras.`\n"
   ]
  },
  {
   "cell_type": "markdown",
   "id": "b421220b",
   "metadata": {},
   "source": [
    "### Subword Tokenization"
   ]
  },
  {
   "cell_type": "markdown",
   "id": "464efcee",
   "metadata": {},
   "source": [
    "`La idea básica detrás de la tokenización de subpalabras es combinar los mejores aspectos de la tokenización por caracteres y palabras.` Por un lado, queremos `dividir palabras raras en unidades más pequeñas` para permitir que `el modelo lidie con palabras complejas y errores ortográficos`. Por otro lado, queremos mantener palabras frecuentes como entidades únicas para que podamos mantener la longitud de nuestras entradas a un tamaño manejable. `La principal característica distintiva de la tokenización de subpalabras` (así como de la tokenización por palabras) `es que se aprende del corpus de preentrenamiento utilizando una mezcla de reglas y algoritmos estadísticos`.\n",
    "\n",
    "`Hay varios algoritmos de tokenización de subpalabras que se utilizan comúnmente en NLP`, pero comencemos con `WordPiece`, que es utilizado por los tokenizadores de BERT y DistilBERT. La forma más fácil de entender cómo funciona WordPiece es verlo en acción. Transformers proporciona una conveniente clase AutoTokenizer que te permite cargar rápidamente el tokenizador asociado con un modelo preentrenado: solo llamamos a su método from_pretrained(), proporcionando la ID de un modelo en el Hub o una ruta de archivo local. Comencemos cargando el tokenizador para DistilBERT:"
   ]
  },
  {
   "cell_type": "code",
   "execution_count": 18,
   "id": "ea9d1d51",
   "metadata": {},
   "outputs": [],
   "source": [
    "from transformers import AutoTokenizer\n",
    "model_ckpt = \"distilbert-base-uncased\"\n",
    "tokenizer = AutoTokenizer.from_pretrained(model_ckpt)"
   ]
  },
  {
   "cell_type": "markdown",
   "id": "69870a0b",
   "metadata": {},
   "source": [
    "La clase `AutoTokenizer` pertenece a un conjunto más amplio de clases \"auto\", `cuyo trabajo es recuperar automáticamente la configuración del modelo`, `los pesos preentrenados o el vocabulario a partir del nombre del punto de control`. Esto te permite cambiar rápidamente entre modelos, pero si deseas cargar la clase específica manualmente, también puedes hacerlo. Por ejemplo, podríamos haber cargado el tokenizador DistilBERT de la siguiente manera:"
   ]
  },
  {
   "cell_type": "code",
   "execution_count": 19,
   "id": "83aee38e",
   "metadata": {},
   "outputs": [],
   "source": [
    "from transformers import DistilBertTokenizer\n",
    "distilbert_tokenizer = DistilBertTokenizer.from_pretrained(model_ckpt)"
   ]
  },
  {
   "cell_type": "markdown",
   "id": "a5c6e661",
   "metadata": {},
   "source": [
    "Examinemos cómo funciona este tokenizador alimentándolo con nuestro simple ejemplo de “Tokenizing text is a core task of NLP.”"
   ]
  },
  {
   "cell_type": "code",
   "execution_count": 20,
   "id": "2c5a93aa",
   "metadata": {},
   "outputs": [
    {
     "name": "stdout",
     "output_type": "stream",
     "text": [
      "{'input_ids': [101, 19204, 6026, 3793, 2003, 1037, 4563, 4708, 1997, 17953, 2361, 1012, 102], 'attention_mask': [1, 1, 1, 1, 1, 1, 1, 1, 1, 1, 1, 1, 1]}\n"
     ]
    }
   ],
   "source": [
    "encoded_text = tokenizer(text)\n",
    "print(encoded_text)"
   ]
  },
  {
   "cell_type": "markdown",
   "id": "533f1598",
   "metadata": {},
   "source": [
    "Al igual que con la tokenización de caracteres, podemos ver que las palabras han sido mapeadas a enteros únicos en el campo input_ids. Discutiremos el papel del campo attention_mask en la siguiente sección. `Ahora que tenemos los input_ids, podemos convertirlos de nuevo en tokens usando el método convert_ids_to_tokens() del tokenizador:`"
   ]
  },
  {
   "cell_type": "code",
   "execution_count": 21,
   "id": "3f30244e",
   "metadata": {},
   "outputs": [
    {
     "name": "stdout",
     "output_type": "stream",
     "text": [
      "['[CLS]', 'token', '##izing', 'text', 'is', 'a', 'core', 'task', 'of', 'nl', '##p', '.', '[SEP]']\n"
     ]
    }
   ],
   "source": [
    "tokens = tokenizer.convert_ids_to_tokens(encoded_text.input_ids)\n",
    "print(tokens)"
   ]
  },
  {
   "cell_type": "markdown",
   "id": "09d4c0e2",
   "metadata": {},
   "source": [
    "`Podemos observar tres cosas aquí`: \n",
    "- Primero, se han agregado algunos `tokens especiales` `[CLS]` y `[SEP]` al `inicio` y al `final` de la secuencia. Estos tokens difieren de un modelo a otro, pero `su función principal es indicar el inicio y el final de una secuencia`.\n",
    "\n",
    "- En segundo lugar, `los tokens han sido convertidos a minúsculas`, lo cual es una característica de este punto de control en particular. Finalmente, podemos ver que `\"tokenizing\"` y `\"NLP\"` se han dividido en dos tokens, lo que tiene sentido dado que no son palabras comunes.\n",
    "\n",
    "`El prefijo ##` en ##izando y ##p `significa que la cadena anterior no es un espacio en blanco`; cualquier token con este prefijo debe fusionarse con el token anterior cuando conviertas los tokens de nuevo a una cadena. La clase AutoTokenizer tiene un método convert_tokens_to_string() para hacer exactamente eso, así que apliquémoslo a nuestros tokens:"
   ]
  },
  {
   "cell_type": "code",
   "execution_count": 22,
   "id": "66b82de0",
   "metadata": {},
   "outputs": [
    {
     "name": "stdout",
     "output_type": "stream",
     "text": [
      "[CLS] tokenizing text is a core task of nlp. [SEP]\n"
     ]
    }
   ],
   "source": [
    "print(tokenizer.convert_tokens_to_string(tokens))"
   ]
  },
  {
   "cell_type": "markdown",
   "id": "e14263f1",
   "metadata": {},
   "source": [
    "La clase AutoTokenizer también tiene varios atributos que proporcionan información sobre el tokenizador. Por ejemplo, podemos inspeccionar el tamaño del vocabulario:"
   ]
  },
  {
   "cell_type": "code",
   "execution_count": 23,
   "id": "d1611277",
   "metadata": {},
   "outputs": [
    {
     "data": {
      "text/plain": [
       "30522"
      ]
     },
     "execution_count": 23,
     "metadata": {},
     "output_type": "execute_result"
    }
   ],
   "source": [
    "tokenizer.vocab_size"
   ]
  },
  {
   "cell_type": "markdown",
   "id": "fac353a3",
   "metadata": {},
   "source": [
    "y el tamaño máximo de contexto del modelo correspondiente:"
   ]
  },
  {
   "cell_type": "code",
   "execution_count": 24,
   "id": "06373f53",
   "metadata": {},
   "outputs": [
    {
     "data": {
      "text/plain": [
       "512"
      ]
     },
     "execution_count": 24,
     "metadata": {},
     "output_type": "execute_result"
    }
   ],
   "source": [
    "tokenizer.model_max_length"
   ]
  },
  {
   "cell_type": "markdown",
   "id": "2f5e2f13",
   "metadata": {},
   "source": [
    "Otro atributo interesante que hay que conocer son los nombres de los campos que el modelo espera en su paso hacia adelante:"
   ]
  },
  {
   "cell_type": "code",
   "execution_count": 25,
   "id": "900450f1",
   "metadata": {},
   "outputs": [
    {
     "data": {
      "text/plain": [
       "['input_ids', 'attention_mask']"
      ]
     },
     "execution_count": 25,
     "metadata": {},
     "output_type": "execute_result"
    }
   ],
   "source": [
    "tokenizer.model_input_names"
   ]
  },
  {
   "cell_type": "markdown",
   "id": "b72733e1",
   "metadata": {},
   "source": [
    "Ahora que tenemos una comprensión básica del proceso de tokenización para una sola cadena, `¡veamos cómo podemos tokenizar todo el conjunto de datos!`\n",
    "\n",
    "`Nota`: Al usar modelos preentrenados, es muy importante asegurarse de usar el mismo tokenizador con el que se entrenó el modelo. Desde la perspectiva del modelo, cambiar el tokenizador es como barajar el vocabulario. Si todos a tu alrededor comenzaran a intercambiar palabras aleatorias como “casa” por “gato,” también tendrías dificultades para entender lo que está sucediendo.\n"
   ]
  },
  {
   "cell_type": "markdown",
   "id": "2490a844",
   "metadata": {},
   "source": [
    "### Tokenizing the Whole Dataset"
   ]
  },
  {
   "cell_type": "markdown",
   "id": "771324d3",
   "metadata": {},
   "source": [
    "`Para tokenizar todo el corpus, usaremos el método map()` de nuestro objeto DatasetDict. Encontraremos este método muchas veces a lo largo de este libro, ya que proporciona una forma conveniente de aplicar una función de procesamiento a cada elemento en un conjunto de datos. Como pronto veremos, `el método map() también se puede usar para crear nuevas filas y columnas`.\n",
    "\n",
    "Para empezar, lo primero que necesitamos es una función de procesamiento para tokenizar nuestros ejemplos.\n",
    "\n",
    "Esta función aplica el tokenizador a un lote de ejemplos; `padding=True` rellenará los ejemplos con ceros hasta el tamaño más largo en un lote, y `truncation=True` truncará los ejemplos hasta el tamaño máximo de contexto del modelo. Para ver tokenize() en acción, pasemos un lote de dos ejemplos del conjunto de entrenamiento:"
   ]
  },
  {
   "cell_type": "code",
   "execution_count": 26,
   "id": "e6fe857f",
   "metadata": {},
   "outputs": [
    {
     "name": "stdout",
     "output_type": "stream",
     "text": [
      "{'input_ids': [[101, 1045, 2134, 2102, 2514, 26608, 102, 0, 0, 0, 0, 0, 0, 0, 0, 0, 0, 0, 0, 0, 0, 0, 0], [101, 1045, 2064, 2175, 2013, 3110, 2061, 20625, 2000, 2061, 9636, 17772, 2074, 2013, 2108, 2105, 2619, 2040, 14977, 1998, 2003, 8300, 102]], 'attention_mask': [[1, 1, 1, 1, 1, 1, 1, 0, 0, 0, 0, 0, 0, 0, 0, 0, 0, 0, 0, 0, 0, 0, 0], [1, 1, 1, 1, 1, 1, 1, 1, 1, 1, 1, 1, 1, 1, 1, 1, 1, 1, 1, 1, 1, 1, 1]]}\n"
     ]
    }
   ],
   "source": [
    "def tokenize(batch):\n",
    "    return tokenizer(batch[\"text\"], padding=True, truncation=True)\n",
    "\n",
    "print(tokenize(emotions[\"train\"][:2]))"
   ]
  },
  {
   "cell_type": "markdown",
   "id": "a278d9a1",
   "metadata": {},
   "source": [
    "Aquí podemos ver el resultado del padding: el primer elemento de input_ids es más corto que el segundo, por lo que se han añadido ceros a ese elemento para que tengan la misma longitud. Estos ceros tienen un token [PAD] correspondiente en el vocabulario, y el conjunto de tokens especiales también incluye los tokens [CLS] y [SEP] que encontramos anteriormente.\n",
    "\n",
    "`También ten en cuenta que, además de devolver los tweets codificados como input_ids`, `el tokenizador devuelve una lista de arreglos de attention_mask`. Esto se debe a que no queremos que el modelo se confunda por los tokens de relleno adicionales: la máscara de atención permite al modelo ignorar las partes rellenadas de la entrada. La siguiente figura proporciona una explicación visual de cómo se rellenan los input IDs y las máscaras de atención.\n",
    "![Texto alternativo](images/token.png)\n",
    "\n",
    "*Para cada lote, las secuencias de entrada se rellenan hasta la longitud máxima de secuencia en el lote; la máscara de atención se utiliza en el modelo para ignorar las áreas rellenadas de los tensores de entrada.*\n",
    "\n",
    "Una vez que hayamos definido una función de procesamiento, podemos aplicarla a todas las divisiones del corpus en una sola línea de código:"
   ]
  },
  {
   "cell_type": "code",
   "execution_count": 27,
   "id": "aafb225d",
   "metadata": {},
   "outputs": [],
   "source": [
    "emotions_encoded = emotions.map(tokenize, batched=True, batch_size=None)"
   ]
  },
  {
   "cell_type": "markdown",
   "id": "f45bc175",
   "metadata": {},
   "source": [
    "Por defecto, el `método map()` opera individualmente en cada ejemplo del corpus, por lo que establecer `batched=True` `codificará los tweets en lotes`. Dado que hemos establecido `batch_size=None`, `nuestra función tokenize() se aplicará a todo el conjunto de datos como un solo lote`. `Esto asegura que los tensores de entrada y las máscaras de atención tengan la misma forma a nivel global`, y podemos ver que esta operación ha añadido nuevas columnas input_ids y attention_mask al conjunto de datos:"
   ]
  },
  {
   "cell_type": "code",
   "execution_count": 28,
   "id": "4df85576",
   "metadata": {},
   "outputs": [
    {
     "name": "stdout",
     "output_type": "stream",
     "text": [
      "['text', 'label', 'input_ids', 'attention_mask']\n"
     ]
    }
   ],
   "source": [
    "print(emotions_encoded[\"train\"].column_names)"
   ]
  },
  {
   "cell_type": "markdown",
   "id": "df136df2",
   "metadata": {},
   "source": [
    "## Training a Text Classifier"
   ]
  },
  {
   "cell_type": "markdown",
   "id": "dd141bd3",
   "metadata": {},
   "source": [
    "Como se discutió en el Capítulo 1, `modelos como DistilBERT están preentrenados para predecir palabras enmascaradas en una secuencia de texto`. `Sin embargo, no podemos usar estos modelos de lenguaje directamente para la clasificación de texto`; `necesitamos modificarlos ligeramente`. Para comprender qué modificaciones son necesarias, echemos un vistazo a la arquitectura de un modelo basado en codificadores como DistilBERT, que se representa en la siguiente figura.\n",
    "![aquitectura modelo basado en codificadores](images/arquitecturamodelo.png)\n",
    "*La arquitectura utilizada para la clasificación de secuencias con un transformador basado en un codificador; consiste en el cuerpo preentrenado del modelo combinado con una cabeza de clasificación personalizada.*\n",
    "\n",
    "Primero, el texto se tokeniza y se representa como vectores one-hot llamados codificaciones de tokens. El tamaño del vocabulario del tokenizador determina la dimensión de las codificaciones de tokens, y generalmente consiste en 20k a 200k tokens únicos. A continuación, estas codificaciones de tokens se convierten en token embeddings, que son vectores que viven en un espacio de menor dimensión. Luego, los token embeddings se pasan a través de las capas del bloque del codificador para generar un `hidden state` para cada token de entrada. `Para el objetivo de preentrenamiento de modelado de lenguaje`, cada `hidden state` se alimenta a una capa que predicew los `masked input tokens`. Para la tarea de clasificación, reemplazamos la capa de modelado de lenguaje por una capa de clasificación.\n",
    "\n",
    "`Nota`: En la práctica, PyTorch omite el paso de crear vectores one-hot para las codificaciones de tokens, porque multiplicar una matriz con un vector one-hot es lo mismo que seleccionar una columna de la matriz. Esto se puede hacer directamente obteniendo la columna con el ID del token de la matriz. "
   ]
  },
  {
   "cell_type": "markdown",
   "id": "a4486cbb",
   "metadata": {},
   "source": [
    "`Tenemos dos opciones para entrenar un modelo así en nuestro conjunto de datos de Twitter:`\n",
    "- **Feature extraction**: Utilizamos los estados ocultos (hidden states) como características y simplemente entrenamos un clasificador sobre ellos, sin modificar el modelo preentrenado.\n",
    "- **Fine-tuning**: Entrenamos todo el modelo de extremo a extremo, lo que también actualiza los parámetros del modelo preentrenado.\n",
    "\n",
    "`En las siguientes secciones exploramos ambas opciones para DistilBERT y examinamos sus compensaciones.`"
   ]
  },
  {
   "cell_type": "markdown",
   "id": "485094d9",
   "metadata": {},
   "source": [
    "### Transformers as Feature Extractors"
   ]
  },
  {
   "cell_type": "markdown",
   "id": "29a44822",
   "metadata": {},
   "source": [
    "`Usar un transformador como extractor de características es bastante simple`. Como se muestra en la siguiente Figura, congelamos los pesos del cuerpo durante el entrenamiento y usamos los estados ocultos como características para el clasificador. `La ventaja de este enfoque es que podemos entrenar rápidamente un modelo pequeño o superficial`. Tal modelo podría ser una capa de clasificación neuronal o un método que no dependa de gradientes, como un bosque aleatorio. `Este método es especialmente conveniente si las GPU no están disponibles,` ya que los estados ocultos solo necesitan ser precomputados una vez.\n",
    "\n",
    "![features stractor](images/featurestractor.png)\n",
    "*En el enfoque basado en características, el modelo DistilBERT está congelado y solo proporciona características para un clasificador.*"
   ]
  },
  {
   "cell_type": "markdown",
   "id": "a8b947ab",
   "metadata": {},
   "source": [
    "#### Using pretrained models"
   ]
  },
  {
   "cell_type": "markdown",
   "id": "12f8d85b",
   "metadata": {},
   "source": [
    "Usaremos otra clase de auto conveniente de Transformers llamada AutoModel. Similar a la clase AutoTokenizer, AutoModel tiene un método from_pretrained() para cargar los pesos de un modelo preentrenado. Utilicemos este método para cargar el echeckpoint  de DistilBERT:\n"
   ]
  },
  {
   "cell_type": "code",
   "execution_count": 29,
   "id": "3f669700",
   "metadata": {},
   "outputs": [],
   "source": [
    "from transformers import AutoModel\n",
    "model_ckpt = \"distilbert-base-uncased\"\n",
    "device = torch.device(\"cuda\" if torch.cuda.is_available() else \"cpu\")\n",
    "model = AutoModel.from_pretrained(model_ckpt).to(device)"
   ]
  },
  {
   "cell_type": "markdown",
   "id": "9d19b7e4",
   "metadata": {},
   "source": [
    "La `clase AutoModel` convierte las codificaciones de tokens en embeddings y luego las alimenta a través de la pila del codificador para devolver los estados ocultos (hidden states). Echemos un vistazo a cómo podemos extraer estos estados de nuestro corpus."
   ]
  },
  {
   "cell_type": "markdown",
   "id": "7e21fbfd",
   "metadata": {},
   "source": [
    "##### Extrayendo los ultimos estados ocultos"
   ]
  },
  {
   "cell_type": "markdown",
   "id": "51bd091d",
   "metadata": {},
   "source": [
    "\n",
    "Para calentar, recuperemos los últimos estados ocultos para una única cadena. Lo primero que necesitamos hacer es codificar la cadena y convertir los tokens en tensores de PyTorch. Esto se puede hacer proporcionando el argumento `return_tensors=\"pt\"` al tokenizador de la siguiente manera:"
   ]
  },
  {
   "cell_type": "code",
   "execution_count": 30,
   "id": "f63b0278",
   "metadata": {},
   "outputs": [
    {
     "name": "stdout",
     "output_type": "stream",
     "text": [
      "Input tensor shape: torch.Size([1, 6])\n"
     ]
    }
   ],
   "source": [
    "text = \"this is a test\"\n",
    "inputs = tokenizer(text, return_tensors=\"pt\")\n",
    "print(f\"Input tensor shape: {inputs['input_ids'].size()}\")"
   ]
  },
  {
   "cell_type": "markdown",
   "id": "42ed9c00",
   "metadata": {},
   "source": [
    "Como podemos ver, `el tensor resultante tiene la forma [tamaño_lote, n_tokens]`. Ahora que tenemos las codificaciones como un tensor, el paso final es colocarlas en el mismo dispositivo que el modelo y pasar las entradas de la siguiente manera:"
   ]
  },
  {
   "cell_type": "code",
   "execution_count": 31,
   "id": "f23d1715",
   "metadata": {},
   "outputs": [
    {
     "name": "stdout",
     "output_type": "stream",
     "text": [
      "BaseModelOutput(last_hidden_state=tensor([[[-0.1565, -0.1862,  0.0528,  ..., -0.1188,  0.0662,  0.5470],\n",
      "         [-0.3575, -0.6484, -0.0618,  ..., -0.3040,  0.3508,  0.5221],\n",
      "         [-0.2772, -0.4459,  0.1818,  ..., -0.0948, -0.0076,  0.9958],\n",
      "         [-0.2841, -0.3917,  0.3753,  ..., -0.2151, -0.1173,  1.0526],\n",
      "         [ 0.2661, -0.5094, -0.3180,  ..., -0.4203,  0.0144, -0.2149],\n",
      "         [ 0.9441,  0.0112, -0.4714,  ...,  0.1439, -0.7288, -0.1619]]],\n",
      "       device='cuda:0'), hidden_states=None, attentions=None)\n"
     ]
    }
   ],
   "source": [
    "inputs = {k:v.to(device) for k,v in inputs.items()}\n",
    "with torch.no_grad():\n",
    "    outputs = model(**inputs)\n",
    "print(outputs)"
   ]
  },
  {
   "cell_type": "markdown",
   "id": "00538a34",
   "metadata": {},
   "source": [
    "Aquí hemos utilizado el gestor de contexto `torch.no_grad()` para desactivar el cálculo automático del gradiente. Esto es útil para la inferencia ya que reduce la huella de memoria de los cálculos. Dependiendo de la configuración del modelo, la salida puede contener varios objetos, como los estados ocultos, pérdidas o atenciones, organizados en una clase similar a un namedtuple en Python. En nuestro ejemplo, la salida del modelo es una instancia de `BaseModelOutput`, y podemos acceder a sus atributos por nombre. El modelo actual devuelve solo un atributo, que es el último estado oculto, así que examinemos su forma:"
   ]
  },
  {
   "cell_type": "code",
   "execution_count": 32,
   "id": "942c2c9e",
   "metadata": {},
   "outputs": [
    {
     "data": {
      "text/plain": [
       "torch.Size([1, 6, 768])"
      ]
     },
     "execution_count": 32,
     "metadata": {},
     "output_type": "execute_result"
    }
   ],
   "source": [
    "outputs.last_hidden_state.size()"
   ]
  },
  {
   "cell_type": "markdown",
   "id": "1ef7a425",
   "metadata": {},
   "source": [
    "Mirando el `hidden state tensor`, vemos que tiene la forma `[tamaño_lote, n_tokens, dimensión_oculta]`. En otras palabras, se devuelve un vector de 768 dimensiones para cada uno de los 6 tokens de entrada. `Para tareas de clasificación`, `es una práctica común utilizar simplemente el hidden state asociado con el token [CLS] como la característica de entrada`. Dado que este token aparece al inicio de cada secuencia, podemos extraerlo indexando en `outputs.last_hidden_state` de la siguiente manera:\n"
   ]
  },
  {
   "cell_type": "code",
   "execution_count": 33,
   "id": "46759471",
   "metadata": {},
   "outputs": [
    {
     "data": {
      "text/plain": [
       "torch.Size([1, 768])"
      ]
     },
     "execution_count": 33,
     "metadata": {},
     "output_type": "execute_result"
    }
   ],
   "source": [
    "outputs.last_hidden_state[:,0].size()"
   ]
  },
  {
   "cell_type": "markdown",
   "id": "811ac1e9",
   "metadata": {},
   "source": [
    "Ahora sabemos cómo obtener el último estado oculto para una sola cadena; hagamos lo mismo para todo el conjunto de datos creando una nueva columna hidden_state que almacene todos estos vectores. Como hicimos con el tokenizador, usaremos el método map() de DatasetDict para extraer todos los estados ocultos de una vez. Lo primero que necesitamos hacer es envolver los pasos anteriores en una función de procesamiento:"
   ]
  },
  {
   "cell_type": "code",
   "execution_count": 34,
   "id": "4fc55136",
   "metadata": {},
   "outputs": [],
   "source": [
    "def extract_hidden_states(batch):\n",
    "    # Place model inputs on the GPU\n",
    "    inputs = {k:v.to(device) for k,v in batch.items() if k in tokenizer.model_input_names}\n",
    "    # Extract last hidden states\n",
    "    with torch.no_grad():\n",
    "        last_hidden_state = model(**inputs).last_hidden_state\n",
    "    return {\"hidden_state\": last_hidden_state[:,0].cpu().numpy()}\n"
   ]
  },
  {
   "cell_type": "markdown",
   "id": "fb0bb58f",
   "metadata": {},
   "source": [
    "La única diferencia entre esta función y nuestra lógica anterior es el paso final donde colocamos el estado oculto final (ast_hidden_state) de nuevo en la CPU como un arreglo de NumPy. `El método map() requiere que la función de procesamiento devuelva objetos de Python o NumPy cuando estamos usando entradas por lotes.`\n",
    "\n",
    "`Dado que nuestro modelo espera tensores como entradas`, lo siguiente que debemos hacer es `convertir las columnas input_ids y attention_mask` al formato 'torch', de la siguiente manera:"
   ]
  },
  {
   "cell_type": "code",
   "execution_count": 35,
   "id": "14ec31de",
   "metadata": {},
   "outputs": [],
   "source": [
    "emotions_encoded.set_format(\"torch\", columns=[\"input_ids\", \"attention_mask\", \"label\"])\n",
    "# Podemos proceder a extraer los hidden states en todos los segmentos de una vez:\n",
    "emotions_hidden = emotions_encoded.map(extract_hidden_states, batched=True)"
   ]
  },
  {
   "cell_type": "markdown",
   "id": "f996aeb4",
   "metadata": {},
   "source": [
    "Observe que en este caso `no establecimos batch_size=None`, lo que significa que `se usa el batch_size=1000` por defecto. Como era de esperar, al aplicar la función extract_hidden_states() se ha agregado una nueva columna hidden_state a nuestro conjunto de datos:"
   ]
  },
  {
   "cell_type": "code",
   "execution_count": 36,
   "id": "8edd777f",
   "metadata": {},
   "outputs": [
    {
     "data": {
      "text/plain": [
       "['text', 'label', 'input_ids', 'attention_mask', 'hidden_state']"
      ]
     },
     "execution_count": 36,
     "metadata": {},
     "output_type": "execute_result"
    }
   ],
   "source": [
    "emotions_hidden[\"train\"].column_names"
   ]
  },
  {
   "cell_type": "markdown",
   "id": "b7b96c0c",
   "metadata": {},
   "source": [
    "Ahora que tenemos los estados ocultos asociados con cada tweet, el siguiente paso es `entrenar un clasificador con ellos`. Para hacer eso, `necesitaremos una matriz de características`—veamos."
   ]
  },
  {
   "cell_type": "markdown",
   "id": "7571da5b",
   "metadata": {},
   "source": [
    "##### Creating a feature matrix"
   ]
  },
  {
   "cell_type": "markdown",
   "id": "4c58d6a6",
   "metadata": {},
   "source": [
    "`El conjunto de datos preprocesado ahora contiene toda la información que necesitamos para entrenar un clasificador`. Usaremos los estados ocultos como características de entrada y las etiquetas como objetivos. Podemos crear fácilmente los arrays correspondientes en el conocido formato de Scikit-learn de la siguiente manera:"
   ]
  },
  {
   "cell_type": "code",
   "execution_count": 37,
   "id": "b83dfb98",
   "metadata": {},
   "outputs": [
    {
     "data": {
      "text/plain": [
       "((16000, 768), (2000, 768))"
      ]
     },
     "execution_count": 37,
     "metadata": {},
     "output_type": "execute_result"
    }
   ],
   "source": [
    "import numpy as np\n",
    "X_train = np.asarray(emotions_hidden[\"train\"][\"hidden_state\"])\n",
    "X_valid = np.asarray(emotions_hidden[\"validation\"][\"hidden_state\"])\n",
    "y_train = np.asarray(emotions_hidden[\"train\"][\"label\"])\n",
    "y_valid = np.asarray(emotions_hidden[\"validation\"][\"label\"])\n",
    "X_train.shape, X_valid.shape"
   ]
  },
  {
   "cell_type": "markdown",
   "id": "8ef39779",
   "metadata": {},
   "source": [
    "`Antes de entrenar un modelo sobre los estados ocultos (hidden state)`, es una buena práctica realizar una verificación rápida para asegurarnos de que ofrecen una representación útil de las emociones que queremos clasificar. En la siguiente sección, veremos cómo visualizar las características que proporciona una forma rápida de lograrlo."
   ]
  },
  {
   "cell_type": "markdown",
   "id": "06dbbe24",
   "metadata": {},
   "source": [
    "##### Visualizing the training set"
   ]
  },
  {
   "cell_type": "markdown",
   "id": "793b4060",
   "metadata": {},
   "source": [
    "`Dado que visualizar los estados ocultos en 768 dimensiones es complicado`, utilizaremos el potente algoritmo `UMAP` para proyectar los vectores a 2D. Dado que UMAP funciona mejor cuando las características están escaladas para estar en el intervalo [0,1], primero aplicaremos un MinMaxScaler y luego utilizaremos la implementación de UMAP de la biblioteca umap-learn para reducir los estados ocultos:"
   ]
  },
  {
   "cell_type": "code",
   "execution_count": 38,
   "id": "5c92d9e9",
   "metadata": {},
   "outputs": [
    {
     "name": "stderr",
     "output_type": "stream",
     "text": [
      "/home/luisgarcia/anaconda3/envs/NLP/lib/python3.12/site-packages/sklearn/utils/deprecation.py:132: FutureWarning: 'force_all_finite' was renamed to 'ensure_all_finite' in 1.6 and will be removed in 1.8.\n",
      "  warnings.warn(\n"
     ]
    },
    {
     "data": {
      "text/html": [
       "<div>\n",
       "<style scoped>\n",
       "    .dataframe tbody tr th:only-of-type {\n",
       "        vertical-align: middle;\n",
       "    }\n",
       "\n",
       "    .dataframe tbody tr th {\n",
       "        vertical-align: top;\n",
       "    }\n",
       "\n",
       "    .dataframe thead th {\n",
       "        text-align: right;\n",
       "    }\n",
       "</style>\n",
       "<table border=\"1\" class=\"dataframe\">\n",
       "  <thead>\n",
       "    <tr style=\"text-align: right;\">\n",
       "      <th></th>\n",
       "      <th>X</th>\n",
       "      <th>Y</th>\n",
       "      <th>label</th>\n",
       "    </tr>\n",
       "  </thead>\n",
       "  <tbody>\n",
       "    <tr>\n",
       "      <th>0</th>\n",
       "      <td>4.066225</td>\n",
       "      <td>3.310304</td>\n",
       "      <td>0</td>\n",
       "    </tr>\n",
       "    <tr>\n",
       "      <th>1</th>\n",
       "      <td>-3.065524</td>\n",
       "      <td>4.123321</td>\n",
       "      <td>0</td>\n",
       "    </tr>\n",
       "    <tr>\n",
       "      <th>2</th>\n",
       "      <td>4.886285</td>\n",
       "      <td>6.651852</td>\n",
       "      <td>3</td>\n",
       "    </tr>\n",
       "    <tr>\n",
       "      <th>3</th>\n",
       "      <td>-2.337347</td>\n",
       "      <td>6.136347</td>\n",
       "      <td>2</td>\n",
       "    </tr>\n",
       "    <tr>\n",
       "      <th>4</th>\n",
       "      <td>-3.355906</td>\n",
       "      <td>6.112323</td>\n",
       "      <td>3</td>\n",
       "    </tr>\n",
       "  </tbody>\n",
       "</table>\n",
       "</div>"
      ],
      "text/plain": [
       "          X         Y  label\n",
       "0  4.066225  3.310304      0\n",
       "1 -3.065524  4.123321      0\n",
       "2  4.886285  6.651852      3\n",
       "3 -2.337347  6.136347      2\n",
       "4 -3.355906  6.112323      3"
      ]
     },
     "execution_count": 38,
     "metadata": {},
     "output_type": "execute_result"
    }
   ],
   "source": [
    "#pip install umap-learn\n",
    "from umap import UMAP\n",
    "from sklearn.preprocessing import MinMaxScaler\n",
    "\n",
    "X_scaled = MinMaxScaler().fit_transform(X_train)\n",
    "# Initialize and fit UMAP\n",
    "mapper = UMAP(n_components=2, metric=\"cosine\").fit(X_scaled)\n",
    "# Create a DataFrame of 2D embeddings\n",
    "df_emb = pd.DataFrame(mapper.embedding_, columns=[\"X\", \"Y\"])\n",
    "df_emb[\"label\"] = y_train\n",
    "df_emb.head()"
   ]
  },
  {
   "cell_type": "markdown",
   "id": "d2f2a1f0",
   "metadata": {},
   "source": [
    "El resultado es un arreglo con el mismo número de muestras de entrenamiento, pero con solo 2 características en lugar de las 768 con las que comenzamos. Investiguemos los datos comprimidos un poco más y tracemos la densidad de puntos para cada categoría por separado:"
   ]
  },
  {
   "cell_type": "code",
   "execution_count": 39,
   "id": "f6d432ff",
   "metadata": {},
   "outputs": [
    {
     "data": {
      "image/png": "[encoded data removed]",
      "text/plain": [
       "<Figure size 700x500 with 6 Axes>"
      ]
     },
     "metadata": {},
     "output_type": "display_data"
    }
   ],
   "source": [
    "fig, axes = plt.subplots(2, 3, figsize=(7,5))\n",
    "axes = axes.flatten()\n",
    "cmaps = [\"Greys\", \"Blues\", \"Oranges\", \"Reds\", \"Purples\", \"Greens\"]\n",
    "labels = emotions[\"train\"].features[\"label\"].names\n",
    "\n",
    "for i, (label, cmap) in enumerate(zip(labels, cmaps)):\n",
    "    df_emb_sub = df_emb.query(f\"label == {i}\")\n",
    "    axes[i].hexbin(df_emb_sub[\"X\"], df_emb_sub[\"Y\"], cmap=cmap,gridsize=20, linewidths=(0,))\n",
    "    axes[i].set_title(label)\n",
    "    axes[i].set_xticks([]), axes[i].set_yticks([])\n",
    "\n",
    "plt.tight_layout()\n",
    "plt.show()"
   ]
  },
  {
   "cell_type": "markdown",
   "id": "af2c68af",
   "metadata": {},
   "source": [
    "`Nota:` Estas son solo proyecciones en un espacio de menor dimensión. Solo porque algunas categorías se superpongan no significa que no sean separables en el espacio original. Por el contrario, si son separables en el espacio proyectado, serán separables en el espacio original.\n",
    "\n",
    "A partir de este gráfico, podemos ver algunos patrones claros: los sentimientos negativos como `sadness`, `anger` y `fear` ocupan regiones similares con distribuciones ligeramente diferentes. Por otro lado, `joy` y `love` están bien separados de las emociones negativas y también comparten un espacio similar. Finalmente, `surprise` está dispersa por toda partes. Aunque podríamos haber esperado cierta separación, esto no está garantizado, ya que el modelo no fue entrenado para diferenciar entre estas emociones. Solo las aprendió implícitamente al adivinar las palabras enmascaradas en los textos.\n",
    "\n",
    "Ahora que hemos obtenido información sobre las características de nuestro conjunto de datos, ¡finalmente entrenemos un modelo con él!\n"
   ]
  },
  {
   "cell_type": "markdown",
   "id": "3ab628f8",
   "metadata": {},
   "source": [
    "##### Training a simple classifier"
   ]
  },
  {
   "cell_type": "markdown",
   "id": "d794eaf9",
   "metadata": {},
   "source": [
    "Hemos visto que los estados ocultos (hidden state) son algo diferentes entre las emociones, aunque para varias de ellas no hay un límite obvio. Usemos estos estados ocultos para entrenar un modelo de regresión logística con Scikit-learn. Entrenar un modelo tan simple es rápido y no requiere una GPU:"
   ]
  },
  {
   "cell_type": "code",
   "execution_count": 40,
   "id": "6e6cf2b9",
   "metadata": {},
   "outputs": [
    {
     "data": {
      "text/plain": [
       "0.6345"
      ]
     },
     "execution_count": 40,
     "metadata": {},
     "output_type": "execute_result"
    }
   ],
   "source": [
    "from sklearn.linear_model import LogisticRegression\n",
    "# We increase `max_iter` to guarantee convergence\n",
    "lr_clf = LogisticRegression(max_iter=3000)\n",
    "lr_clf.fit(X_train, y_train)\n",
    "lr_clf.score(X_valid, y_valid)"
   ]
  },
  {
   "cell_type": "markdown",
   "id": "4279a911",
   "metadata": {},
   "source": [
    "Al observar la precisión, podría parecer que nuestro modelo es solo un poco mejor que el azar, pero dado que estamos tratando con un conjunto de datos multicategoría desbalanceado, en realidad es significativamente mejor. Podemos examinar si nuestro modelo es efectivo comparándolo con una línea base simple. `En Scikit-learn hay un DummyClassifier` que se puede usar para `construir un clasificador con heurísticas simples`, como elegir siempre la clase mayoritaria o siempre seleccionar una clase al azar. En este caso, la heurística de mejor rendimiento es elegir siempre la clase más frecuente, lo que produce una precisión de alrededor del 35%."
   ]
  },
  {
   "cell_type": "code",
   "execution_count": 41,
   "id": "604a1a62",
   "metadata": {},
   "outputs": [
    {
     "data": {
      "text/plain": [
       "0.352"
      ]
     },
     "execution_count": 41,
     "metadata": {},
     "output_type": "execute_result"
    }
   ],
   "source": [
    "from sklearn.dummy import DummyClassifier\n",
    "dummy_clf = DummyClassifier(strategy=\"most_frequent\")\n",
    "dummy_clf.fit(X_train, y_train)\n",
    "dummy_clf.score(X_valid, y_valid)"
   ]
  },
  {
   "cell_type": "markdown",
   "id": "cb979c84",
   "metadata": {},
   "source": [
    "Así que, nuestro clasificador simple con embeddings de DistilBERT es significativamente mejor que nuestra línea base. Podemos investigar más a fondo el rendimiento del modelo observando la matriz de confusión del clasificador, que nos muestra la relación entre las etiquetas verdaderas y las predicciones:"
   ]
  },
  {
   "cell_type": "code",
   "execution_count": 42,
   "id": "20da063b",
   "metadata": {},
   "outputs": [
    {
     "data": {
      "image/png": "[encoded data removed]",
      "text/plain": [
       "<Figure size 600x600 with 1 Axes>"
      ]
     },
     "metadata": {},
     "output_type": "display_data"
    }
   ],
   "source": [
    "from sklearn.metrics import ConfusionMatrixDisplay, confusion_matrix\n",
    "def plot_confusion_matrix(y_preds, y_true, labels):\n",
    "    cm = confusion_matrix(y_true, y_preds, normalize=\"true\")\n",
    "    fig, ax = plt.subplots(figsize=(6, 6))\n",
    "    disp = ConfusionMatrixDisplay(confusion_matrix=cm, display_labels=labels)\n",
    "    disp.plot(cmap=\"Blues\", values_format=\".2f\", ax=ax, colorbar=False)\n",
    "    plt.title(\"Normalized confusion matrix\")\n",
    "    plt.show()\n",
    "y_preds = lr_clf.predict(X_valid)\n",
    "plot_confusion_matrix(y_preds, y_valid, labels)"
   ]
  },
  {
   "cell_type": "markdown",
   "id": "ae5c106c",
   "metadata": {},
   "source": [
    "Podemos ver que `anger` y `fear` a menudo se confunden con `sadness`, lo cual coincide con la observación que hicimos al visualizar los embeddings. Además, `love` y `surprise` a menudo se confunden con la `joi`.\n",
    "\n",
    "En la próxima sección exploraremos el enfoque de ajuste fino, que conduce a un rendimiento de clasificación superior. Sin embargo, es importante notar que hacer esto requiere más recursos computacionales, como GPU, que podrían no estar disponibles en su organización. En casos como estos, un enfoque basado en características puede ser un buen compromiso entre hacer aprendizaje automático tradicional y aprendizaje profundo."
   ]
  },
  {
   "cell_type": "markdown",
   "id": "9ee38424",
   "metadata": {},
   "source": [
    "### Ajuste Fino de Transformadores"
   ]
  },
  {
   "cell_type": "markdown",
   "id": "3b32a5d5",
   "metadata": {},
   "source": [
    "Ahora exploremos qué se necesita para ajustar un transformador end-to-end. Con el enfoque de ajuste fino, no usamos los estados ocultos (hidden state) como características fijas, sino que los entrenamos como se muestra en la siguiente Figura.\n",
    "![Ajustefino](images/ajustefino.png)\n",
    "Esto requiere que la cabeza de clasificación sea diferenciable, razón por la cual este método generalmente utiliza una red neuronal para la clasificación.\n",
    "\n",
    "`Entrenar los estados ocultos` (hidden state) que sirven como entradas para el modelo de clasificación `nos ayudará a evitar el problema de trabajar con datos que pueden no ser adecuados para la tarea de clasificación`. En cambio, los `estados ocultos (hidden state) iniciales` se adaptan durante el entrenamiento para disminuir la pérdida del modelo y así aumentar su rendimiento."
   ]
  },
  {
   "cell_type": "markdown",
   "id": "040bf712",
   "metadata": {},
   "source": [
    "#### Loading a pretrained model"
   ]
  },
  {
   "cell_type": "markdown",
   "id": "b2a42650",
   "metadata": {},
   "source": [
    "`Lo primero que necesitamos es un modelo DistilBERT previamente entrenado` como el que usamos en el enfoque basado en características. La única ligera modificación es que usamos el `modelo AutoModelFor SequenceClassification` en lugar de AutoModel. La diferencia es que el `modelo AutoModelForSequenceClassification tiene un encabezado de clasificación encima de las salidas del modelo previamente entrenadas`, que se entrena fácilmente con el modelo base. Solo necesitamos especificar cuántas etiquetas tiene que predecir el modelo (seis en nuestro caso)."
   ]
  },
  {
   "cell_type": "code",
   "execution_count": 43,
   "id": "750f8dff",
   "metadata": {},
   "outputs": [
    {
     "name": "stderr",
     "output_type": "stream",
     "text": [
      "Some weights of DistilBertForSequenceClassification were not initialized from the model checkpoint at distilbert-base-uncased and are newly initialized: ['classifier.bias', 'classifier.weight', 'pre_classifier.bias', 'pre_classifier.weight']\n",
      "You should probably TRAIN this model on a down-stream task to be able to use it for predictions and inference.\n"
     ]
    }
   ],
   "source": [
    "from transformers import AutoModelForSequenceClassification\n",
    "import torch\n",
    "model_ckpt = \"distilbert-base-uncased\"\n",
    "device = torch.device(\"cuda\" if torch.cuda.is_available() else \"cpu\")\n",
    "num_labels = 6\n",
    "model = (AutoModelForSequenceClassification.from_pretrained(model_ckpt, num_labels=num_labels).to(device))"
   ]
  },
  {
   "cell_type": "markdown",
   "id": "b89e2ad7",
   "metadata": {},
   "source": [
    "Verás una advertencia de que algunas partes del modelo están inicializadas aleatoriamente. Esto es normal ya que la cabeza de clasificación aún no ha sido entrenada. El siguiente paso es definir las métricas que utilizaremos para evaluar el rendimiento de nuestro modelo durante el ajuste fino."
   ]
  },
  {
   "cell_type": "markdown",
   "id": "25d1bca5",
   "metadata": {},
   "source": [
    "##### Defining the performance metrics"
   ]
  },
  {
   "cell_type": "markdown",
   "id": "245550e8",
   "metadata": {},
   "source": [
    "Para monitorear las métricas durante el entrenamiento, necesitamos definir una función compute_metrics() para el Entrenador. Esta función recibe un objeto EvalPrediction (que es una tupla con nombre con atributos de predicciones y label_ids) y debe devolver un diccionario que mapea el nombre de cada métrica a su valor. Para nuestra aplicación, calcularemos la puntuación F1 y la precisión del modelo de la siguiente manera:\n"
   ]
  },
  {
   "cell_type": "code",
   "execution_count": 44,
   "id": "ecd7c222",
   "metadata": {},
   "outputs": [],
   "source": [
    "from sklearn.metrics import accuracy_score, f1_score\n",
    "def compute_metrics(pred):\n",
    "    labels = pred.label_ids\n",
    "    preds = pred.predictions.argmax(-1)\n",
    "    f1 = f1_score(labels, preds, average=\"weighted\")\n",
    "    acc = accuracy_score(labels, preds)\n",
    "    return {\"accuracy\": acc, \"f1\": f1}"
   ]
  },
  {
   "cell_type": "markdown",
   "id": "baa80da0",
   "metadata": {},
   "source": [
    "Con el conjunto de datos y las métricas listas, solo tenemos dos cosas finales que atender antes de definir la Trainer class:\n",
    "1. Inicia sesión en nuestra cuenta en el Hugging Face Hub. Esto nos permitirá subir nuestro modelo afinado a nuestra cuenta en el Hub y compartirlo con la comunidad.\n",
    "2. Define todos los hiperparámetros para la ejecución del entrenamiento.\n",
    "\n",
    "Abordaremos estos pasos en la próxima sección."
   ]
  },
  {
   "cell_type": "markdown",
   "id": "75fc8f15",
   "metadata": {},
   "source": [
    "##### Training the model"
   ]
  },
  {
   "cell_type": "markdown",
   "id": "1c0a5325",
   "metadata": {},
   "source": [
    "Si estás ejecutando este código en un cuaderno de Jupyter, puedes iniciar sesión en el Hub con la siguiente función de ayuda:\n",
    "\n",
    "Esto mostrará un widget en el que puedes ingresar tu nombre de usuario y contraseña, o un token de acceso con privilegios de escritura. Puedes encontrar detalles sobre cómo crear tokens de acceso en la documentación de Hub. "
   ]
  },
  {
   "cell_type": "code",
   "execution_count": 46,
   "id": "0b9f2310",
   "metadata": {},
   "outputs": [
    {
     "data": {
      "application/vnd.jupyter.widget-view+json": {
       "model_id": "c950888fbf984a16ba159f65f6167807",
       "version_major": 2,
       "version_minor": 0
      },
      "text/plain": [
       "VBox(children=(HTML(value='<center> <img\\nsrc=https://huggingface.co/front/assets/huggingface_logo-noborder.sv…"
      ]
     },
     "metadata": {},
     "output_type": "display_data"
    }
   ],
   "source": [
    "from huggingface_hub import notebook_login\n",
    "notebook_login()"
   ]
  },
  {
   "cell_type": "markdown",
   "id": "73f93828",
   "metadata": {},
   "source": [
    "Para definir los parámetros de entrenamiento, utilizamos la clase `TrainingArguments`. Esta clase almacena mucha información y te ofrece un control detallado sobre el entrenamiento y la evaluación. `El argumento más importante a especificar es output_dir`, que es donde se almacenan todos los artefactos del entrenamiento. Aquí hay un ejemplo de TrainingArguments en todo su esplendor:"
   ]
  },
  {
   "cell_type": "code",
   "execution_count": 47,
   "id": "b5e28df8",
   "metadata": {},
   "outputs": [],
   "source": [
    "#pip install transformers[torch]\n",
    "from transformers import Trainer, TrainingArguments\n",
    "batch_size = 64\n",
    "logging_steps = len(emotions_encoded[\"train\"]) // batch_size\n",
    "model_name = f\"{model_ckpt}-finetuned-emotion\"\n",
    "training_args = TrainingArguments(output_dir=model_name,\n",
    "                                  num_train_epochs=2,\n",
    "                                  learning_rate=2e-5,\n",
    "                                  per_device_train_batch_size=batch_size,\n",
    "                                  per_device_eval_batch_size=batch_size,\n",
    "                                  weight_decay=0.01,\n",
    "                                  eval_strategy=\"epoch\",\n",
    "                                  disable_tqdm=False,\n",
    "                                  logging_steps=logging_steps,\n",
    "                                  push_to_hub=True,\n",
    "                                  log_level=\"error\")\n"
   ]
  },
  {
   "cell_type": "markdown",
   "id": "016c057d",
   "metadata": {},
   "source": [
    "Aquí también establecemos el tamaño del lote, la tasa de aprendizaje y el número de épocas, y especificamos cargar el mejor modelo al final de la ejecución del entrenamiento. Con este ingrediente final, podemos instanciar y ajustar nuestro modelo con el Trainer:"
   ]
  },
  {
   "cell_type": "code",
   "execution_count": 48,
   "id": "46d0d1aa",
   "metadata": {},
   "outputs": [
    {
     "name": "stderr",
     "output_type": "stream",
     "text": [
      "/tmp/ipykernel_82212/2697864529.py:2: FutureWarning: `tokenizer` is deprecated and will be removed in version 5.0.0 for `Trainer.__init__`. Use `processing_class` instead.\n",
      "  trainer = Trainer(model=model, args=training_args,\n"
     ]
    },
    {
     "data": {
      "text/html": [
       "\n",
       "    <div>\n",
       "      \n",
       "      <progress value='500' max='500' style='width:300px; height:20px; vertical-align: middle;'></progress>\n",
       "      [500/500 03:21, Epoch 2/2]\n",
       "    </div>\n",
       "    <table border=\"1\" class=\"dataframe\">\n",
       "  <thead>\n",
       " <tr style=\"text-align: left;\">\n",
       "      <th>Epoch</th>\n",
       "      <th>Training Loss</th>\n",
       "      <th>Validation Loss</th>\n",
       "      <th>Accuracy</th>\n",
       "      <th>F1</th>\n",
       "    </tr>\n",
       "  </thead>\n",
       "  <tbody>\n",
       "    <tr>\n",
       "      <td>1</td>\n",
       "      <td>0.788400</td>\n",
       "      <td>0.293407</td>\n",
       "      <td>0.909500</td>\n",
       "      <td>0.908522</td>\n",
       "    </tr>\n",
       "    <tr>\n",
       "      <td>2</td>\n",
       "      <td>0.241300</td>\n",
       "      <td>0.207929</td>\n",
       "      <td>0.926000</td>\n",
       "      <td>0.925990</td>\n",
       "    </tr>\n",
       "  </tbody>\n",
       "</table><p>"
      ],
      "text/plain": [
       "<IPython.core.display.HTML object>"
      ]
     },
     "metadata": {},
     "output_type": "display_data"
    }
   ],
   "source": [
    "from transformers import Trainer\n",
    "trainer = Trainer(model=model, args=training_args,\n",
    "                  compute_metrics=compute_metrics,\n",
    "                  train_dataset=emotions_encoded[\"train\"],\n",
    "                  eval_dataset=emotions_encoded[\"validation\"],\n",
    "                  tokenizer=tokenizer)\n",
    "trainer.train();"
   ]
  },
  {
   "cell_type": "markdown",
   "id": "89aa7c93",
   "metadata": {},
   "source": [
    "Al observar los registros, podemos ver que nuestro modelo tiene una puntuación F1 en el conjunto de validación de alrededor del 92%—¡esta es una mejora significativa en comparación con el enfoque basado en características!\n",
    "\n",
    "`Podemos echar un vistazo más detallado a las métricas de entrenamiento calculando la matriz de confusión`. Para visualizar la matriz de confusión, primero necesitamos obtener las predicciones en el conjunto de validación. El método predict() de la clase Trainer devuelve varios objetos útiles que podemos utilizar para la evaluación:\n"
   ]
  },
  {
   "cell_type": "code",
   "execution_count": 49,
   "id": "8f45fc38",
   "metadata": {},
   "outputs": [
    {
     "data": {
      "text/html": [],
      "text/plain": [
       "<IPython.core.display.HTML object>"
      ]
     },
     "metadata": {},
     "output_type": "display_data"
    }
   ],
   "source": [
    "preds_output = trainer.predict(emotions_encoded[\"validation\"])"
   ]
  },
  {
   "cell_type": "markdown",
   "id": "9e936ca7",
   "metadata": {},
   "source": [
    "La salida del método predict() es un objeto PredictionOutput que contiene arreglos de predicciones y label_ids, junto con las métricas que pasamos al entrenador. Por ejemplo, las métricas en el conjunto de validación se pueden acceder de la siguiente manera:"
   ]
  },
  {
   "cell_type": "code",
   "execution_count": 50,
   "id": "77d64cae",
   "metadata": {},
   "outputs": [
    {
     "data": {
      "text/plain": [
       "{'test_loss': 0.20792925357818604,\n",
       " 'test_accuracy': 0.926,\n",
       " 'test_f1': 0.9259895651480966,\n",
       " 'test_runtime': 3.3899,\n",
       " 'test_samples_per_second': 589.979,\n",
       " 'test_steps_per_second': 9.44}"
      ]
     },
     "execution_count": 50,
     "metadata": {},
     "output_type": "execute_result"
    }
   ],
   "source": [
    "preds_output.metrics"
   ]
  },
  {
   "cell_type": "markdown",
   "id": "6c145b35",
   "metadata": {},
   "source": [
    "También contiene las predicciones en bruto para cada clase. Podemos decodificar las predicciones de manera codiciosa usando np.argmax(). Esto produce las etiquetas predichas y tiene el mismo formato que las etiquetas devueltas por los modelos de Scikit-learn en el enfoque basado en características:"
   ]
  },
  {
   "cell_type": "code",
   "execution_count": 51,
   "id": "fbb4b13a",
   "metadata": {},
   "outputs": [
    {
     "data": {
      "image/png": "[encoded data removed]",
      "text/plain": [
       "<Figure size 600x600 with 1 Axes>"
      ]
     },
     "metadata": {},
     "output_type": "display_data"
    }
   ],
   "source": [
    "y_preds = np.argmax(preds_output.predictions, axis=1)\n",
    "plot_confusion_matrix(y_preds, y_valid, labels)"
   ]
  },
  {
   "cell_type": "markdown",
   "id": "44c86827",
   "metadata": {},
   "source": [
    "Esto está mucho más cerca de la matriz de confusión diagonal ideal. La categoría de amor a menudo todavía se confunde con la de alegría, lo que parece natural. La sorpresa también se confunde frecuentemente con la alegría o se confunde con el miedo. En general, el rendimiento del modelo parece bastante bueno, pero antes de dar por terminado el día, profundicemos un poco más en los tipos de errores que es probable que cometa nuestro modelo."
   ]
  },
  {
   "cell_type": "markdown",
   "id": "571778ab",
   "metadata": {},
   "source": [
    "##### Error analysis"
   ]
  },
  {
   "cell_type": "markdown",
   "id": "dcb8a553",
   "metadata": {},
   "source": [
    "Antes de continuar, deberíamos investigar un poco más las predicciones de nuestro modelo. Una técnica simple pero poderosa es ordenar las muestras de validación por la pérdida del modelo. Cuando pasamos la etiqueta durante la pasada hacia adelante, la pérdida se calcula automáticamente y se devuelve. Aquí hay una función que devuelve la pérdida junto con la etiqueta predicha:"
   ]
  },
  {
   "cell_type": "code",
   "execution_count": 52,
   "id": "00706f3b",
   "metadata": {},
   "outputs": [],
   "source": [
    "from torch.nn.functional import cross_entropy\n",
    "def forward_pass_with_label(batch):\n",
    "    # Place all input tensors on the same device as the model\n",
    "    inputs = {k:v.to(device) for k,v in batch.items() if k in tokenizer.model_input_names}\n",
    "    with torch.no_grad():\n",
    "        output = model(**inputs)\n",
    "        pred_label = torch.argmax(output.logits, axis=-1)\n",
    "        loss = cross_entropy(output.logits, batch[\"label\"].to(device),reduction=\"none\")\n",
    "        # Place outputs on CPU for compatibility with other dataset columns\n",
    "    return {\"loss\": loss.cpu().numpy(),\n",
    "            \"predicted_label\": pred_label.cpu().numpy()}"
   ]
  },
  {
   "cell_type": "markdown",
   "id": "4ebebaa9",
   "metadata": {},
   "source": [
    "Usando el método map() una vez más, podemos aplicar esta función para obtener las pérdidas para todas las muestras:"
   ]
  },
  {
   "cell_type": "code",
   "execution_count": 53,
   "id": "554ae219",
   "metadata": {},
   "outputs": [
    {
     "data": {
      "application/vnd.jupyter.widget-view+json": {
       "model_id": "cad36b896a1248dfa07779dd028db69c",
       "version_major": 2,
       "version_minor": 0
      },
      "text/plain": [
       "Map:   0%|          | 0/2000 [00:00<?, ? examples/s]"
      ]
     },
     "metadata": {},
     "output_type": "display_data"
    }
   ],
   "source": [
    "# Convert our dataset back to PyTorch tensors\n",
    "emotions_encoded.set_format(\"torch\",columns=[\"input_ids\", \"attention_mask\", \"label\"])\n",
    "# Compute loss values\n",
    "emotions_encoded[\"validation\"] = emotions_encoded[\"validation\"].map(forward_pass_with_label, batched=True, batch_size=16)"
   ]
  },
  {
   "cell_type": "markdown",
   "id": "a5537e90",
   "metadata": {},
   "source": [
    "Finalmente, creamos un DataFrame con los textos, las pérdidas y las etiquetas predichas/reales:"
   ]
  },
  {
   "cell_type": "code",
   "execution_count": 54,
   "id": "6bf05222",
   "metadata": {},
   "outputs": [],
   "source": [
    "emotions_encoded.set_format(\"pandas\")\n",
    "cols = [\"text\", \"label\", \"predicted_label\", \"loss\"]\n",
    "df_test = emotions_encoded[\"validation\"][:][cols]\n",
    "df_test[\"label\"] = df_test[\"label\"].apply(label_int2str)\n",
    "df_test[\"predicted_label\"] = (df_test[\"predicted_label\"].apply(label_int2str))"
   ]
  },
  {
   "cell_type": "markdown",
   "id": "90e684d8",
   "metadata": {},
   "source": [
    "Ahora podemos clasificar fácilmente emotions_encoded por las pérdidas en orden ascendente o descendente. El objetivo de este ejercicio es detectar uno de los siguientes:\n",
    "\n",
    "- `Etiquetas incorrectas (Wrong labels):` Cada proceso que añade etiquetas a los datos puede ser defectuoso. Los anotadores pueden cometer errores o estar en desacuerdo, mientras que las etiquetas que se inferen de otras características pueden ser incorrectas. Si fuera fácil anotar automáticamente los datos, entonces no necesitaríamos un modelo para hacerlo. Por lo tanto, es normal que haya algunos ejemplos etiquetados incorrectamente. Con este enfoque, podemos encontrar y corregirlos rápidamente.\n",
    "- `Particularidades del conjunto de datos (Quirks of the dataset)`: Los conjuntos de datos en el mundo real siempre son un poco desordenados. Al trabajar con texto, los caracteres especiales o cadenas en las entradas pueden tener un gran impacto en las predicciones del modelo. Inspeccionar las predicciones más débiles del modelo puede ayudar a identificar tales características, y limpiar los datos o inyectar ejemplos similares puede hacer que el modelo sea más robusto.\n",
    "\n",
    "Primero veamos las muestras de datos con las mayores pérdidas:\n"
   ]
  },
  {
   "cell_type": "code",
   "execution_count": 55,
   "id": "b301d368",
   "metadata": {},
   "outputs": [
    {
     "data": {
      "text/html": [
       "<div>\n",
       "<style scoped>\n",
       "    .dataframe tbody tr th:only-of-type {\n",
       "        vertical-align: middle;\n",
       "    }\n",
       "\n",
       "    .dataframe tbody tr th {\n",
       "        vertical-align: top;\n",
       "    }\n",
       "\n",
       "    .dataframe thead th {\n",
       "        text-align: right;\n",
       "    }\n",
       "</style>\n",
       "<table border=\"1\" class=\"dataframe\">\n",
       "  <thead>\n",
       "    <tr style=\"text-align: right;\">\n",
       "      <th></th>\n",
       "      <th>text</th>\n",
       "      <th>label</th>\n",
       "      <th>predicted_label</th>\n",
       "      <th>loss</th>\n",
       "    </tr>\n",
       "  </thead>\n",
       "  <tbody>\n",
       "    <tr>\n",
       "      <th>1963</th>\n",
       "      <td>i called myself pro life and voted for perry w...</td>\n",
       "      <td>joy</td>\n",
       "      <td>sadness</td>\n",
       "      <td>5.309012</td>\n",
       "    </tr>\n",
       "    <tr>\n",
       "      <th>1870</th>\n",
       "      <td>i guess i feel betrayed because i admired him ...</td>\n",
       "      <td>joy</td>\n",
       "      <td>sadness</td>\n",
       "      <td>5.157819</td>\n",
       "    </tr>\n",
       "    <tr>\n",
       "      <th>1500</th>\n",
       "      <td>i guess we would naturally feel a sense of lon...</td>\n",
       "      <td>anger</td>\n",
       "      <td>sadness</td>\n",
       "      <td>5.142580</td>\n",
       "    </tr>\n",
       "    <tr>\n",
       "      <th>465</th>\n",
       "      <td>i would eventually go in to these stores but i...</td>\n",
       "      <td>joy</td>\n",
       "      <td>fear</td>\n",
       "      <td>5.073149</td>\n",
       "    </tr>\n",
       "    <tr>\n",
       "      <th>1274</th>\n",
       "      <td>i am going to several holiday parties and i ca...</td>\n",
       "      <td>joy</td>\n",
       "      <td>sadness</td>\n",
       "      <td>5.004437</td>\n",
       "    </tr>\n",
       "    <tr>\n",
       "      <th>1111</th>\n",
       "      <td>im lazy my characters fall into categories of ...</td>\n",
       "      <td>joy</td>\n",
       "      <td>fear</td>\n",
       "      <td>5.000310</td>\n",
       "    </tr>\n",
       "    <tr>\n",
       "      <th>765</th>\n",
       "      <td>i feel super awkward and out of place right now</td>\n",
       "      <td>joy</td>\n",
       "      <td>sadness</td>\n",
       "      <td>4.699862</td>\n",
       "    </tr>\n",
       "    <tr>\n",
       "      <th>1801</th>\n",
       "      <td>i feel that he was being overshadowed by the s...</td>\n",
       "      <td>love</td>\n",
       "      <td>sadness</td>\n",
       "      <td>4.676537</td>\n",
       "    </tr>\n",
       "    <tr>\n",
       "      <th>1950</th>\n",
       "      <td>i as representative of everything thats wrong ...</td>\n",
       "      <td>surprise</td>\n",
       "      <td>sadness</td>\n",
       "      <td>4.442641</td>\n",
       "    </tr>\n",
       "    <tr>\n",
       "      <th>318</th>\n",
       "      <td>i felt ashamed of these feelings and was scare...</td>\n",
       "      <td>fear</td>\n",
       "      <td>sadness</td>\n",
       "      <td>4.290716</td>\n",
       "    </tr>\n",
       "  </tbody>\n",
       "</table>\n",
       "</div>"
      ],
      "text/plain": [
       "                                                   text     label  \\\n",
       "1963  i called myself pro life and voted for perry w...       joy   \n",
       "1870  i guess i feel betrayed because i admired him ...       joy   \n",
       "1500  i guess we would naturally feel a sense of lon...     anger   \n",
       "465   i would eventually go in to these stores but i...       joy   \n",
       "1274  i am going to several holiday parties and i ca...       joy   \n",
       "1111  im lazy my characters fall into categories of ...       joy   \n",
       "765     i feel super awkward and out of place right now       joy   \n",
       "1801  i feel that he was being overshadowed by the s...      love   \n",
       "1950  i as representative of everything thats wrong ...  surprise   \n",
       "318   i felt ashamed of these feelings and was scare...      fear   \n",
       "\n",
       "     predicted_label      loss  \n",
       "1963         sadness  5.309012  \n",
       "1870         sadness  5.157819  \n",
       "1500         sadness  5.142580  \n",
       "465             fear  5.073149  \n",
       "1274         sadness  5.004437  \n",
       "1111            fear  5.000310  \n",
       "765          sadness  4.699862  \n",
       "1801         sadness  4.676537  \n",
       "1950         sadness  4.442641  \n",
       "318          sadness  4.290716  "
      ]
     },
     "execution_count": 55,
     "metadata": {},
     "output_type": "execute_result"
    }
   ],
   "source": [
    "df_test.sort_values(\"loss\", ascending=False).head(10)"
   ]
  },
  {
   "cell_type": "markdown",
   "id": "86fac142",
   "metadata": {},
   "source": [
    "Podemos ver claramente que `el modelo predijo incorrectamente algunas de las etiquetas`. Por otro lado, parece que hay bastantes ejemplos sin una clase clara, que podrían estar mal etiquetados o requerir una nueva clase por completo. En particular, la alegría parece estar mal etiquetada varias veces. `Con esta información podemos refinar el conjunto de datos`, lo que a menudo puede conducir a una mejora de rendimiento tan grande (o más) como tener más datos o modelos más grandes.\n",
    "\n",
    "Al observar las muestras con las pérdidas más bajas, vemos que el modelo parece estar más confiado al predecir la clase de tristeza. `Los modelos de aprendizaje profundo son excepcionalmente buenos en encontrar y explotar atajos para llegar a una predicción`. Por esta razón, también vale la pena invertir tiempo en examinar los ejemplos sobre los que el modelo tiene más confianza, para que podamos estar seguros de que el modelo no explota inapropiadamente ciertas características del texto. Entonces, también veamos las predicciones con la pérdida más pequeña:"
   ]
  },
  {
   "cell_type": "code",
   "execution_count": 56,
   "id": "a0ba9b29",
   "metadata": {},
   "outputs": [
    {
     "data": {
      "text/html": [
       "<div>\n",
       "<style scoped>\n",
       "    .dataframe tbody tr th:only-of-type {\n",
       "        vertical-align: middle;\n",
       "    }\n",
       "\n",
       "    .dataframe tbody tr th {\n",
       "        vertical-align: top;\n",
       "    }\n",
       "\n",
       "    .dataframe thead th {\n",
       "        text-align: right;\n",
       "    }\n",
       "</style>\n",
       "<table border=\"1\" class=\"dataframe\">\n",
       "  <thead>\n",
       "    <tr style=\"text-align: right;\">\n",
       "      <th></th>\n",
       "      <th>text</th>\n",
       "      <th>label</th>\n",
       "      <th>predicted_label</th>\n",
       "      <th>loss</th>\n",
       "    </tr>\n",
       "  </thead>\n",
       "  <tbody>\n",
       "    <tr>\n",
       "      <th>1466</th>\n",
       "      <td>i feel so ungrateful to be wishing this pregna...</td>\n",
       "      <td>sadness</td>\n",
       "      <td>sadness</td>\n",
       "      <td>0.017932</td>\n",
       "    </tr>\n",
       "    <tr>\n",
       "      <th>133</th>\n",
       "      <td>i and feel quite ungrateful for it but i m loo...</td>\n",
       "      <td>sadness</td>\n",
       "      <td>sadness</td>\n",
       "      <td>0.017990</td>\n",
       "    </tr>\n",
       "    <tr>\n",
       "      <th>1873</th>\n",
       "      <td>i feel practically virtuous this month i have ...</td>\n",
       "      <td>joy</td>\n",
       "      <td>joy</td>\n",
       "      <td>0.018036</td>\n",
       "    </tr>\n",
       "    <tr>\n",
       "      <th>69</th>\n",
       "      <td>i have no extra money im worried all of the ti...</td>\n",
       "      <td>sadness</td>\n",
       "      <td>sadness</td>\n",
       "      <td>0.018046</td>\n",
       "    </tr>\n",
       "    <tr>\n",
       "      <th>1310</th>\n",
       "      <td>i feel like an ungrateful asshole</td>\n",
       "      <td>sadness</td>\n",
       "      <td>sadness</td>\n",
       "      <td>0.018135</td>\n",
       "    </tr>\n",
       "    <tr>\n",
       "      <th>1452</th>\n",
       "      <td>i always feel guilty and come to one conclusio...</td>\n",
       "      <td>sadness</td>\n",
       "      <td>sadness</td>\n",
       "      <td>0.018226</td>\n",
       "    </tr>\n",
       "    <tr>\n",
       "      <th>1502</th>\n",
       "      <td>i feel ungrateful for stupid shit like</td>\n",
       "      <td>sadness</td>\n",
       "      <td>sadness</td>\n",
       "      <td>0.018233</td>\n",
       "    </tr>\n",
       "    <tr>\n",
       "      <th>1861</th>\n",
       "      <td>im tired of feeling lethargic hating to work o...</td>\n",
       "      <td>sadness</td>\n",
       "      <td>sadness</td>\n",
       "      <td>0.018239</td>\n",
       "    </tr>\n",
       "    <tr>\n",
       "      <th>578</th>\n",
       "      <td>i got to christmas feeling positive about the ...</td>\n",
       "      <td>joy</td>\n",
       "      <td>joy</td>\n",
       "      <td>0.018250</td>\n",
       "    </tr>\n",
       "    <tr>\n",
       "      <th>277</th>\n",
       "      <td>i just feel like if i can just make it through...</td>\n",
       "      <td>joy</td>\n",
       "      <td>joy</td>\n",
       "      <td>0.018362</td>\n",
       "    </tr>\n",
       "  </tbody>\n",
       "</table>\n",
       "</div>"
      ],
      "text/plain": [
       "                                                   text    label  \\\n",
       "1466  i feel so ungrateful to be wishing this pregna...  sadness   \n",
       "133   i and feel quite ungrateful for it but i m loo...  sadness   \n",
       "1873  i feel practically virtuous this month i have ...      joy   \n",
       "69    i have no extra money im worried all of the ti...  sadness   \n",
       "1310                  i feel like an ungrateful asshole  sadness   \n",
       "1452  i always feel guilty and come to one conclusio...  sadness   \n",
       "1502             i feel ungrateful for stupid shit like  sadness   \n",
       "1861  im tired of feeling lethargic hating to work o...  sadness   \n",
       "578   i got to christmas feeling positive about the ...      joy   \n",
       "277   i just feel like if i can just make it through...      joy   \n",
       "\n",
       "     predicted_label      loss  \n",
       "1466         sadness  0.017932  \n",
       "133          sadness  0.017990  \n",
       "1873             joy  0.018036  \n",
       "69           sadness  0.018046  \n",
       "1310         sadness  0.018135  \n",
       "1452         sadness  0.018226  \n",
       "1502         sadness  0.018233  \n",
       "1861         sadness  0.018239  \n",
       "578              joy  0.018250  \n",
       "277              joy  0.018362  "
      ]
     },
     "execution_count": 56,
     "metadata": {},
     "output_type": "execute_result"
    }
   ],
   "source": [
    "df_test.sort_values(\"loss\", ascending=True).head(10)"
   ]
  },
  {
   "cell_type": "markdown",
   "id": "6a442976",
   "metadata": {},
   "source": [
    "Ahora sabemos que la alegría a veces está mal etiquetada y que el modelo tiene más confianza en predecir la etiqueta de tristeza. Con esta información, podemos hacer mejoras específicas en nuestro conjunto de datos y también vigilar la clase sobre la que el modelo parece estar muy seguro.\n",
    "\n",
    "El último paso antes de servir el modelo entrenado es guardarlo para un uso posterior. Transformers nos permite hacer esto en unos pocos pasos, que te mostraremos en la siguiente sección."
   ]
  },
  {
   "cell_type": "markdown",
   "id": "77677aea",
   "metadata": {},
   "source": [
    "##### Saving and sharing the model"
   ]
  },
  {
   "cell_type": "markdown",
   "id": "790c3b52",
   "metadata": {},
   "source": [
    "La comunidad de NLP se beneficia enormemente de compartir modelos preentrenados y afinados, y todos pueden compartir sus modelos con otros a través del Hugging Face Hub. Cualquier modelo generado por la comunidad se puede descargar del Hub de la misma manera que descargamos el modelo DistilBERT. Con la API Trainer, guardar y compartir un modelo es sencillo:"
   ]
  },
  {
   "cell_type": "code",
   "execution_count": 57,
   "id": "cad2a7f0",
   "metadata": {},
   "outputs": [
    {
     "data": {
      "application/vnd.jupyter.widget-view+json": {
       "model_id": "2751f63738b04c488ecce562976f66f6",
       "version_major": 2,
       "version_minor": 0
      },
      "text/plain": [
       "Uploading...:   0%|          | 0.00/268M [00:00<?, ?B/s]"
      ]
     },
     "metadata": {},
     "output_type": "display_data"
    },
    {
     "data": {
      "text/plain": [
       "CommitInfo(commit_url='https://huggingface.co/luiscxz/distilbert-base-uncased-finetuned-emotion/commit/95b2a23ac02a2b74ab11dbb0857cee1c61bcad62', commit_message='Training completed!', commit_description='', oid='95b2a23ac02a2b74ab11dbb0857cee1c61bcad62', pr_url=None, repo_url=RepoUrl('https://huggingface.co/luiscxz/distilbert-base-uncased-finetuned-emotion', endpoint='https://huggingface.co', repo_type='model', repo_id='luiscxz/distilbert-base-uncased-finetuned-emotion'), pr_revision=None, pr_num=None)"
      ]
     },
     "execution_count": 57,
     "metadata": {},
     "output_type": "execute_result"
    }
   ],
   "source": [
    "trainer.push_to_hub(commit_message=\"Training completed!\")"
   ]
  },
  {
   "cell_type": "markdown",
   "id": "2db07265",
   "metadata": {},
   "source": [
    "También podemos usar el modelo ajustado para hacer predicciones sobre nuevos tweets. Dado que hemos subido nuestro modelo al Hub, ahora podemos usarlo con la función pipeline(), así como hicimos en el Capítulo 1. Primero, carguemos la pipeline:"
   ]
  },
  {
   "cell_type": "code",
   "execution_count": 58,
   "id": "29a2aedb",
   "metadata": {},
   "outputs": [
    {
     "data": {
      "application/vnd.jupyter.widget-view+json": {
       "model_id": "14c3933bf89844c88da4c11f1ef4d06b",
       "version_major": 2,
       "version_minor": 0
      },
      "text/plain": [
       "config.json:   0%|          | 0.00/872 [00:00<?, ?B/s]"
      ]
     },
     "metadata": {},
     "output_type": "display_data"
    },
    {
     "data": {
      "application/vnd.jupyter.widget-view+json": {
       "model_id": "763623abe5014ab2b6e938b868c7dcc4",
       "version_major": 2,
       "version_minor": 0
      },
      "text/plain": [
       "pytorch_model.bin:   0%|          | 0.00/268M [00:00<?, ?B/s]"
      ]
     },
     "metadata": {},
     "output_type": "display_data"
    },
    {
     "data": {
      "application/vnd.jupyter.widget-view+json": {
       "model_id": "fdb1031a455e42ac86c342953145bc67",
       "version_major": 2,
       "version_minor": 0
      },
      "text/plain": [
       "tokenizer_config.json:   0%|          | 0.00/333 [00:00<?, ?B/s]"
      ]
     },
     "metadata": {},
     "output_type": "display_data"
    },
    {
     "data": {
      "application/vnd.jupyter.widget-view+json": {
       "model_id": "415ee27daff44522b5d2483254b34099",
       "version_major": 2,
       "version_minor": 0
      },
      "text/plain": [
       "vocab.txt:   0%|          | 0.00/232k [00:00<?, ?B/s]"
      ]
     },
     "metadata": {},
     "output_type": "display_data"
    },
    {
     "data": {
      "application/vnd.jupyter.widget-view+json": {
       "model_id": "538ee137cb774a69852c0b536da84bf8",
       "version_major": 2,
       "version_minor": 0
      },
      "text/plain": [
       "tokenizer.json:   0%|          | 0.00/466k [00:00<?, ?B/s]"
      ]
     },
     "metadata": {},
     "output_type": "display_data"
    },
    {
     "data": {
      "application/vnd.jupyter.widget-view+json": {
       "model_id": "2444a5d2b86a4a599030236781808d21",
       "version_major": 2,
       "version_minor": 0
      },
      "text/plain": [
       "model.safetensors:   0%|          | 0.00/268M [00:00<?, ?B/s]"
      ]
     },
     "metadata": {},
     "output_type": "display_data"
    },
    {
     "data": {
      "application/vnd.jupyter.widget-view+json": {
       "model_id": "6541cc9ed7eb460785132d7e94264771",
       "version_major": 2,
       "version_minor": 0
      },
      "text/plain": [
       "special_tokens_map.json:   0%|          | 0.00/112 [00:00<?, ?B/s]"
      ]
     },
     "metadata": {},
     "output_type": "display_data"
    }
   ],
   "source": [
    "from transformers import pipeline\n",
    "# Change `transformersbook` to your Hub username\n",
    "model_id = \"transformersbook/distilbert-base-uncased-finetuned-emotion\"\n",
    "classifier = pipeline(\"text-classification\", model=model_id)"
   ]
  },
  {
   "cell_type": "markdown",
   "id": "f21be076",
   "metadata": {},
   "source": [
    "Entonces, probemos el pipeline con un tweet de muestra:\n"
   ]
  },
  {
   "cell_type": "code",
   "execution_count": 59,
   "id": "7858d8a4",
   "metadata": {},
   "outputs": [
    {
     "name": "stderr",
     "output_type": "stream",
     "text": [
      "/home/luisgarcia/anaconda3/envs/NLP/lib/python3.12/site-packages/transformers/pipelines/text_classification.py:106: UserWarning: `return_all_scores` is now deprecated,  if want a similar functionality use `top_k=None` instead of `return_all_scores=True` or `top_k=1` instead of `return_all_scores=False`.\n",
      "  warnings.warn(\n"
     ]
    }
   ],
   "source": [
    "custom_tweet = \"I saw a movie today and it was really good.\"\n",
    "preds = classifier(custom_tweet, return_all_scores=True)"
   ]
  },
  {
   "cell_type": "markdown",
   "id": "9bc52111",
   "metadata": {},
   "source": [
    "Finalmente, podemos trazar la probabilidad de cada clase en un gráfico de barras. Claramente, el modelo estima que la clase más probable es la alegría, lo cual parece razonable dado el tuit:"
   ]
  },
  {
   "cell_type": "code",
   "execution_count": 60,
   "id": "18d89767",
   "metadata": {},
   "outputs": [
    {
     "data": {
      "image/png": "[encoded data removed]",
      "text/plain": [
       "<Figure size 640x480 with 1 Axes>"
      ]
     },
     "metadata": {},
     "output_type": "display_data"
    }
   ],
   "source": [
    "preds_df = pd.DataFrame(preds[0])\n",
    "plt.bar(labels, 100 * preds_df[\"score\"], color='C0')\n",
    "plt.title(f'\"{custom_tweet}\"')\n",
    "plt.ylabel(\"Class probability (%)\")\n",
    "plt.show()"
   ]
  },
  {
   "cell_type": "markdown",
   "id": "cf4db97d",
   "metadata": {},
   "source": [
    "## Conclusion"
   ]
  },
  {
   "cell_type": "markdown",
   "id": "6302fee8",
   "metadata": {},
   "source": [
    "¡Felicidades, ahora sabes cómo entrenar un modelo transformer para clasificar las emociones en los tweets! Hemos visto dos enfoques complementarios basados en características y en ajuste fino, y hemos investigado sus fortalezas y debilidades.\n",
    "\n",
    "Sin embargo, este es solo el primer paso en la creación de una aplicación del mundo real con modelos transformer, y aún tenemos mucho camino por recorrer. Aquí hay una lista de desafíos que es probable que enfrentes en tu viaje de NLP:\n",
    "\n",
    "- `¡Mi jefe quiere que mi modelo esté en producción desde ayer!`: En la mayoría de las aplicaciones, tu modelo no solo se queda en un lugar acumulando polvo, ¡quieres asegurarte de que está sirviendo predicciones! Cuando un modelo es enviado al Hub, se crea automáticamente un punto de finalización de inferencia que se puede llamar con solicitudes HTTP. Te recomendamos revisar la documentación de la API de Inferencia si deseas aprender más.\n",
    "- `¡Mis usuarios quieren predicciones más rápidas!`:Ya hemos visto un enfoque para este problema: usar DistilBERT. En el Capítulo 8 profundizaremos en la destilación de conocimiento (el proceso por el cual se creó DistilBERT), junto con otros trucos para acelerar tus modelos de transformador.\n",
    "- `¿Puede su modelo también hacer x?`: Como hemos aludido en este capítulo, los transformadores son extremadamente versátiles. En el resto del libro exploraremos una variedad de tareas, como responder preguntas y reconocer entidades nombradas, todas usando la misma arquitectura.\n",
    "- `¡Ninguno de mis textos está en inglés!`: Resulta que los transformers también vienen en una variedad multilingüe, y los usaremos en el capítulo 4 para abordar varios idiomas a la vez.\n",
    "- `¡No tengo etiquetas!`: Si hay muy pocos datos etiquetados disponibles, es posible que el ajuste fino no sea una opción. En el capítulo 9, exploraremos algunas técnicas para lidiar con esta situación.\n",
    "\n",
    "`Ahora que hemos visto lo que implica entrenar y compartir un transformador, en el próximo capítulo exploraremos la implementación de nuestro propio modelo de transformador desde cero.`\n"
   ]
  }
 ],
 "metadata": {
  "kernelspec": {
   "display_name": "NLP",
   "language": "python",
   "name": "python3"
  },
  "language_info": {
   "codemirror_mode": {
    "name": "ipython",
    "version": 3
   },
   "file_extension": ".py",
   "mimetype": "text/x-python",
   "name": "python",
   "nbconvert_exporter": "python",
   "pygments_lexer": "ipython3",
   "version": "3.12.11"
  }
 },
 "nbformat": 4,
 "nbformat_minor": 5
}
